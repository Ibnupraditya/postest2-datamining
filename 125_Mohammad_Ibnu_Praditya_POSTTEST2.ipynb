{
  "nbformat": 4,
  "nbformat_minor": 0,
  "metadata": {
    "colab": {
      "provenance": [],
      "include_colab_link": true
    },
    "kernelspec": {
      "name": "python3",
      "display_name": "Python 3"
    },
    "language_info": {
      "name": "python"
    }
  },
  "cells": [
    {
      "cell_type": "markdown",
      "metadata": {
        "id": "view-in-github",
        "colab_type": "text"
      },
      "source": [
        "<a href=\"https://colab.research.google.com/github/Ibnupraditya/postest2-datamining/blob/main/125_Mohammad_Ibnu_Praditya_POSTTEST2.ipynb\" target=\"_parent\"><img src=\"https://colab.research.google.com/assets/colab-badge.svg\" alt=\"Open In Colab\"/></a>"
      ]
    },
    {
      "cell_type": "markdown",
      "source": [
        "# (1) Apriori"
      ],
      "metadata": {
        "id": "-0zOQSl3wlwj"
      }
    },
    {
      "cell_type": "markdown",
      "source": [
        "# TABEL TABULASI"
      ],
      "metadata": {
        "id": "bQ5zTqA5avpH"
      }
    },
    {
      "cell_type": "code",
      "source": [
        "import pandas as pd\n",
        "from mlxtend.preprocessing import TransactionEncoder\n",
        "from mlxtend.frequent_patterns import apriori, association_rules"
      ],
      "metadata": {
        "id": "jIJBeQxWaA3z"
      },
      "execution_count": null,
      "outputs": []
    },
    {
      "cell_type": "code",
      "source": [
        "# data in the form of transaction list\n",
        "data = [    ['whole milk', 'pastry', 'salty snack'],\n",
        "    ['sausage', 'whole milk', 'semi-finished bread', 'yogurt'],\n",
        "    ['soda', 'pickled vegetables'],\n",
        "    ['canned beer', 'misc. beverages'],\n",
        "    ['sausage', 'hygiene articles'],\n",
        "    ['sausage', 'whole milk', 'rolls/buns'],\n",
        "    ['whole milk', 'soda'],\n",
        "    ['frankfurter', 'soda', 'whipped/sour cream'],\n",
        "    ['frankfurter', 'curd'],\n",
        "    ['beef', 'white bread'],\n",
        "    ['butter', 'whole milk'],\n",
        "    ['frozen vegetables', 'other vegetables'],\n",
        "    ['tropical fruit', 'sugar'],\n",
        "    ['butter milk', 'specialty chocolate'],\n",
        "    ['frozen meals', 'dental care'],\n",
        "    ['rolls/buns', 'rolls/buns'],\n",
        "    ['root vegetables', 'detergent'],\n",
        "    ['sausage', 'rolls/buns'],\n",
        "    ['dish cleaner', 'cling film/bags'],\n",
        "]\n",
        "\n",
        "print(\"\\nTABULASI\")\n",
        "df = pd.DataFrame(data)\n",
        "df = pd.get_dummies(df.stack()).sum(level=0)\n",
        "print(df)"
      ],
      "metadata": {
        "colab": {
          "base_uri": "https://localhost:8080/"
        },
        "id": "kFne5kHOaGgW",
        "outputId": "935141e6-b75d-4ccb-bb36-4f4656f73892"
      },
      "execution_count": null,
      "outputs": [
        {
          "output_type": "stream",
          "name": "stdout",
          "text": [
            "\n",
            "TABULASI\n",
            "    beef  butter  butter milk  canned beer  cling film/bags  curd  \\\n",
            "0      0       0            0            0                0     0   \n",
            "1      0       0            0            0                0     0   \n",
            "2      0       0            0            0                0     0   \n",
            "3      0       0            0            1                0     0   \n",
            "4      0       0            0            0                0     0   \n",
            "5      0       0            0            0                0     0   \n",
            "6      0       0            0            0                0     0   \n",
            "7      0       0            0            0                0     0   \n",
            "8      0       0            0            0                0     1   \n",
            "9      1       0            0            0                0     0   \n",
            "10     0       1            0            0                0     0   \n",
            "11     0       0            0            0                0     0   \n",
            "12     0       0            0            0                0     0   \n",
            "13     0       0            1            0                0     0   \n",
            "14     0       0            0            0                0     0   \n",
            "15     0       0            0            0                0     0   \n",
            "16     0       0            0            0                0     0   \n",
            "17     0       0            0            0                0     0   \n",
            "18     0       0            0            0                1     0   \n",
            "\n",
            "    dental care  detergent  dish cleaner  frankfurter  ...  sausage  \\\n",
            "0             0          0             0            0  ...        0   \n",
            "1             0          0             0            0  ...        1   \n",
            "2             0          0             0            0  ...        0   \n",
            "3             0          0             0            0  ...        0   \n",
            "4             0          0             0            0  ...        1   \n",
            "5             0          0             0            0  ...        1   \n",
            "6             0          0             0            0  ...        0   \n",
            "7             0          0             0            1  ...        0   \n",
            "8             0          0             0            1  ...        0   \n",
            "9             0          0             0            0  ...        0   \n",
            "10            0          0             0            0  ...        0   \n",
            "11            0          0             0            0  ...        0   \n",
            "12            0          0             0            0  ...        0   \n",
            "13            0          0             0            0  ...        0   \n",
            "14            1          0             0            0  ...        0   \n",
            "15            0          0             0            0  ...        0   \n",
            "16            0          1             0            0  ...        0   \n",
            "17            0          0             0            0  ...        1   \n",
            "18            0          0             1            0  ...        0   \n",
            "\n",
            "    semi-finished bread  soda  specialty chocolate  sugar  tropical fruit  \\\n",
            "0                     0     0                    0      0               0   \n",
            "1                     1     0                    0      0               0   \n",
            "2                     0     1                    0      0               0   \n",
            "3                     0     0                    0      0               0   \n",
            "4                     0     0                    0      0               0   \n",
            "5                     0     0                    0      0               0   \n",
            "6                     0     1                    0      0               0   \n",
            "7                     0     1                    0      0               0   \n",
            "8                     0     0                    0      0               0   \n",
            "9                     0     0                    0      0               0   \n",
            "10                    0     0                    0      0               0   \n",
            "11                    0     0                    0      0               0   \n",
            "12                    0     0                    0      1               1   \n",
            "13                    0     0                    1      0               0   \n",
            "14                    0     0                    0      0               0   \n",
            "15                    0     0                    0      0               0   \n",
            "16                    0     0                    0      0               0   \n",
            "17                    0     0                    0      0               0   \n",
            "18                    0     0                    0      0               0   \n",
            "\n",
            "    whipped/sour cream  white bread  whole milk  yogurt  \n",
            "0                    0            0           1       0  \n",
            "1                    0            0           1       1  \n",
            "2                    0            0           0       0  \n",
            "3                    0            0           0       0  \n",
            "4                    0            0           0       0  \n",
            "5                    0            0           1       0  \n",
            "6                    0            0           1       0  \n",
            "7                    1            0           0       0  \n",
            "8                    0            0           0       0  \n",
            "9                    0            1           0       0  \n",
            "10                   0            0           1       0  \n",
            "11                   0            0           0       0  \n",
            "12                   0            0           0       0  \n",
            "13                   0            0           0       0  \n",
            "14                   0            0           0       0  \n",
            "15                   0            0           0       0  \n",
            "16                   0            0           0       0  \n",
            "17                   0            0           0       0  \n",
            "18                   0            0           0       0  \n",
            "\n",
            "[19 rows x 30 columns]\n"
          ]
        },
        {
          "output_type": "stream",
          "name": "stderr",
          "text": [
            "<ipython-input-6-643e8049610b>:25: FutureWarning: Using the level keyword in DataFrame and Series aggregations is deprecated and will be removed in a future version. Use groupby instead. df.sum(level=1) should use df.groupby(level=1).sum().\n",
            "  df = pd.get_dummies(df.stack()).sum(level=0)\n"
          ]
        }
      ]
    },
    {
      "cell_type": "markdown",
      "source": [
        "# DAFTAR SUPPORT DAN CONFIDENT"
      ],
      "metadata": {
        "id": "kjAINDU9ahpk"
      }
    },
    {
      "cell_type": "code",
      "source": [
        "# data in the form of transaction list\n",
        "data = [    ['whole milk', 'pastry', 'salty snack'],\n",
        "    ['sausage', 'whole milk', 'semi-finished bread', 'yogurt'],\n",
        "    ['soda', 'pickled vegetables'],\n",
        "    ['canned beer', 'misc. beverages'],\n",
        "    ['sausage', 'hygiene articles'],\n",
        "    ['sausage', 'whole milk', 'rolls/buns'],\n",
        "    ['whole milk', 'soda'],\n",
        "    ['frankfurter', 'soda', 'whipped/sour cream'],\n",
        "    ['frankfurter', 'curd'],\n",
        "    ['beef', 'white bread'],\n",
        "    ['butter', 'whole milk'],\n",
        "    ['frozen vegetables', 'other vegetables'],\n",
        "    ['tropical fruit', 'sugar'],\n",
        "    ['butter milk', 'specialty chocolate'],\n",
        "    ['frozen meals', 'dental care'],\n",
        "    ['rolls/buns', 'rolls/buns'],\n",
        "    ['root vegetables', 'detergent'],\n",
        "    ['sausage', 'rolls/buns'],\n",
        "    ['dish cleaner', 'cling film/bags'],\n",
        "]\n",
        "\n",
        "# convert data to one-hot encoding format\n",
        "te = TransactionEncoder()\n",
        "te_ary = te.fit(data).transform(data)\n",
        "df = pd.DataFrame(te_ary, columns=te.columns_)\n",
        "\n",
        "# find frequently occurring itemsets (support) with Apriori algorithm\n",
        "frequent_itemsets = apriori(df, min_support=0.05, use_colnames=True)\n",
        "\n",
        "# find association rules with Association Rule Mining algorithm\n",
        "rules = association_rules(frequent_itemsets, metric=\"confidence\", min_threshold=0.5)\n",
        "\n",
        "# create table of support for itemsets\n",
        "df_support = frequent_itemsets\n",
        "df_support['support'] = df_support['support'].apply(lambda x: \"{:.2f}%\".format(x*100))\n",
        "df_support = df_support.rename(columns={\"itemsets\": \"itemset\"})\n",
        "df_support = df_support.set_index('itemset')\n",
        "print(df_support)\n",
        "\n",
        "# create table of support and confidence for rules\n",
        "df_rules = pd.DataFrame(rules, columns=['antecedents', 'consequents', 'support', 'confidence', 'lift'])\n",
        "\n",
        "# filter rules with only one antecedent and one consequent\n",
        "df_rules = df_rules[df_rules['antecedents'].apply(lambda x: len(x) == 1) & df_rules['consequents'].apply(lambda x: len(x) == 1)]\n",
        "\n",
        "# format antecedent and consequent columns\n",
        "df_rules['antecedents'] = df_rules['antecedents'].apply(lambda x: list(x)[0])\n",
        "df_rules['consequents'] = df_rules['consequents'].apply(lambda x: list(x)[0])\n",
        "\n",
        "# set antecedent as index and sort by confidence\n",
        "df_rules = df_rules.set_index('antecedents')\n",
        "df_rules = df_rules.sort_values(by=['confidence'], ascending=False)\n",
        "\n",
        "# create table of support and confidence for filtered rules\n",
        "df_rules = df_rules[['consequents', 'support', 'confidence']]\n",
        "df_rules['support'] = df_rules['support'].apply(lambda x: \"{:.2f}%\".format(x*100))\n",
        "df_rules['confidence'] = df_rules['confidence'].apply(lambda x: \"{:.2f}%\".format(x*100))\n",
        "print(\"\\n\")\n",
        "print(\"HASIL SUPPORT DAN CONFIDENCE\")\n",
        "print(\"\\n\")\n",
        "\n",
        "print(df_rules)"
      ],
      "metadata": {
        "colab": {
          "base_uri": "https://localhost:8080/"
        },
        "id": "IjDAWnoNaoi2",
        "outputId": "57496fc6-a64b-4b68-e885-2a93e48e2386"
      },
      "execution_count": null,
      "outputs": [
        {
          "output_type": "stream",
          "name": "stdout",
          "text": [
            "                                                   support\n",
            "itemset                                                   \n",
            "(beef)                                               5.26%\n",
            "(butter)                                             5.26%\n",
            "(butter milk)                                        5.26%\n",
            "(canned beer)                                        5.26%\n",
            "(cling film/bags)                                    5.26%\n",
            "...                                                    ...\n",
            "(semi-finished bread, whole milk, sausage)           5.26%\n",
            "(sausage, yogurt, semi-finished bread)               5.26%\n",
            "(sausage, whole milk, yogurt)                        5.26%\n",
            "(semi-finished bread, whole milk, yogurt)            5.26%\n",
            "(sausage, whole milk, yogurt, semi-finished bread)   5.26%\n",
            "\n",
            "[65 rows x 1 columns]\n",
            "\n",
            "\n",
            "HASIL SUPPORT DAN CONFIDENCE\n",
            "\n",
            "\n",
            "                             consequents support confidence\n",
            "antecedents                                                \n",
            "beef                         white bread   5.26%    100.00%\n",
            "semi-finished bread              sausage   5.26%    100.00%\n",
            "hygiene articles                 sausage   5.26%    100.00%\n",
            "salty snack                       pastry   5.26%    100.00%\n",
            "pastry                       salty snack   5.26%    100.00%\n",
            "pastry                        whole milk   5.26%    100.00%\n",
            "pickled vegetables                  soda   5.26%    100.00%\n",
            "salty snack                   whole milk   5.26%    100.00%\n",
            "yogurt                           sausage   5.26%    100.00%\n",
            "other vegetables       frozen vegetables   5.26%    100.00%\n",
            "semi-finished bread           whole milk   5.26%    100.00%\n",
            "semi-finished bread               yogurt   5.26%    100.00%\n",
            "yogurt               semi-finished bread   5.26%    100.00%\n",
            "whipped/sour cream                  soda   5.26%    100.00%\n",
            "tropical fruit                     sugar   5.26%    100.00%\n",
            "sugar                     tropical fruit   5.26%    100.00%\n",
            "white bread                         beef   5.26%    100.00%\n",
            "frozen vegetables       other vegetables   5.26%    100.00%\n",
            "curd                         frankfurter   5.26%    100.00%\n",
            "whipped/sour cream           frankfurter   5.26%    100.00%\n",
            "butter                        whole milk   5.26%    100.00%\n",
            "butter milk          specialty chocolate   5.26%    100.00%\n",
            "specialty chocolate          butter milk   5.26%    100.00%\n",
            "misc. beverages              canned beer   5.26%    100.00%\n",
            "canned beer              misc. beverages   5.26%    100.00%\n",
            "dish cleaner             cling film/bags   5.26%    100.00%\n",
            "cling film/bags             dish cleaner   5.26%    100.00%\n",
            "yogurt                        whole milk   5.26%    100.00%\n",
            "frozen meals                 dental care   5.26%    100.00%\n",
            "dental care                 frozen meals   5.26%    100.00%\n",
            "root vegetables                detergent   5.26%    100.00%\n",
            "detergent                root vegetables   5.26%    100.00%\n",
            "rolls/buns                       sausage  10.53%     66.67%\n",
            "frankfurter                         curd   5.26%     50.00%\n",
            "sausage                       whole milk  10.53%     50.00%\n",
            "sausage                       rolls/buns  10.53%     50.00%\n",
            "frankfurter                         soda   5.26%     50.00%\n",
            "frankfurter           whipped/sour cream   5.26%     50.00%\n"
          ]
        }
      ]
    },
    {
      "cell_type": "markdown",
      "source": [
        "Gunakan dataset ini : https://drive.google.com/file/d/1BqC-2d1ZYqFIFwdjdsW5bAAqNFh2AO4C/view?usp=share_link\n",
        "\n",
        "Dan buatlah daftar support dan confidence untuk 2 item set dengan menggunakan dataset tersebut (hint : buatlah tabel tabulasi terlebih dahulu untuk memudahkan)"
      ],
      "metadata": {
        "id": "h-to2rkExJxa"
      }
    },
    {
      "cell_type": "markdown",
      "source": [
        "#(2) KNN\n",
        "\n",
        "Gunakan dataset ini : https://drive.google.com/file/d/1pXAJZZXCXosf0PTJkyogopKaPFxCYl22/view?usp=share_link\n",
        "\n",
        "Kemudian buatlah tabel jarak berdasarkan data berikut ini : \n",
        "\n",
        "![Gambar](data:image/png;base64,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)\n",
        "<!-- 1412 -->"
      ],
      "metadata": {
        "id": "wEgfTlH7xlgG"
      }
    },
    {
      "cell_type": "code",
      "source": [
        "\n",
        "import pandas as pd\n",
        "import math\n",
        "\n",
        "# Membuat data frame\n",
        "df = pd.read_csv('deteksi_uang_palsu.csv')\n",
        "\n",
        "# Menentukan target prediksi\n",
        "target = {'height_left': 172.25,\n",
        "          'height_right': 103.94,\n",
        "          'margin_low': 103.68,\n",
        "          'margin_up': 4.14,\n",
        "          'length': 3.25}\n",
        "\n",
        "# Membuat kolom jarak\n",
        "df['jarak'] = df.apply(lambda x: math.sqrt((x['height_left'] - target['height_left'])**2 + \n",
        "                                           (x['height_right'] - target['height_right'])**2 + \n",
        "                                           (x['margin_low'] - target['margin_low'])**2 + \n",
        "                                           (x['margin_up'] - target['margin_up'])**2 + \n",
        "                                           (x['length'] - target['length'])**2), axis=1)\n",
        "\n",
        "# Menampilkan tabel jarak\n",
        "print(df)"
      ],
      "metadata": {
        "id": "09vio_0B1KQk",
        "colab": {
          "base_uri": "https://localhost:8080/"
        },
        "outputId": "d4607335-624a-42f8-ac0d-7358aff41920"
      },
      "execution_count": null,
      "outputs": [
        {
          "output_type": "stream",
          "name": "stdout",
          "text": [
            "   is_genuine  diagonal  height_left  height_right  margin_low  margin_up  \\\n",
            "0        True    172.06       104.24        103.66        4.24       3.10   \n",
            "1        True    171.66       103.68        103.41        4.35       3.33   \n",
            "2        True    172.23       104.00        103.35        4.43       2.95   \n",
            "3        True    172.07       104.21        103.82        4.29       3.35   \n",
            "4        True    171.79       104.57        104.04        4.26       3.15   \n",
            "5       False    172.00       104.23        104.52        5.76       3.37   \n",
            "6       False    171.56       104.03        103.93        5.47       3.50   \n",
            "7       False    171.90       104.33        104.40        4.70       3.31   \n",
            "8       False    171.84       104.06        104.10        4.87       3.25   \n",
            "9       False    172.11       104.14        104.15        4.84       3.28   \n",
            "\n",
            "   length       jarak  \n",
            "0  113.02  162.985541  \n",
            "1  113.74  163.637621  \n",
            "2  113.12  163.039278  \n",
            "3  113.30  163.154696  \n",
            "4  113.46  163.132317  \n",
            "5  110.94  160.664595  \n",
            "6  111.67  161.413998  \n",
            "7  112.12  162.060927  \n",
            "8  111.04  161.346813  \n",
            "9  110.98  161.291210  \n"
          ]
        }
      ]
    },
    {
      "cell_type": "code",
      "source": [
        "import pandas as pd\n",
        "import math\n",
        "\n",
        "# load data\n",
        "df = pd.read_csv(\"deteksi_uang_palsu.csv\")\n",
        "\n",
        "# hitung jarak dari setiap data terhadap target prediksi\n",
        "target = [172.25, 103.94, 103.68, 4.14, 3.25, 112.48]\n",
        "jarak = []\n",
        "for i in range(len(df)):\n",
        "    d = 0\n",
        "    for j in range(1, 7):\n",
        "        d += (df.iloc[i, j] - target[j-1])**2\n",
        "    jarak.append(math.sqrt(d))\n",
        "df['jarak'] = jarak\n",
        "\n",
        "# urutkan data berdasarkan jarak terdekat\n",
        "K = int(math.sqrt(len(df)))\n",
        "df_sorted = df.sort_values(by='jarak').head(K)\n",
        "\n",
        "# tampilkan data terurut\n",
        "print(df_sorted)\n",
        "\n",
        "\n",
        "# Menghitung jumlah nilai True dan False untuk K terdekat\n",
        "num_true = len(df_sorted[df_sorted[\"is_genuine\"] == True])\n",
        "num_false = len(df_sorted[df_sorted[\"is_genuine\"] == False])\n",
        "print(\"\\n\")\n",
        "print(\"Jumlah True: \", num_true)\n",
        "print(\"Jumlah False: \", num_false)"
      ],
      "metadata": {
        "id": "DgeVwMEX2JZi",
        "colab": {
          "base_uri": "https://localhost:8080/"
        },
        "outputId": "c8469c18-6f6f-4133-cf3e-a1640ed0bfd9"
      },
      "execution_count": null,
      "outputs": [
        {
          "output_type": "stream",
          "name": "stdout",
          "text": [
            "   is_genuine  diagonal  height_left  height_right  margin_low  margin_up  \\\n",
            "0        True    172.06       104.24        103.66        4.24       3.10   \n",
            "2        True    172.23       104.00        103.35        4.43       2.95   \n",
            "3        True    172.07       104.21        103.82        4.29       3.35   \n",
            "\n",
            "   length     jarak  \n",
            "0  113.02  0.671267  \n",
            "2  113.12  0.834626  \n",
            "3  113.30  0.910934  \n",
            "\n",
            "\n",
            "Jumlah True:  3\n",
            "Jumlah False:  0\n"
          ]
        }
      ]
    },
    {
      "cell_type": "code",
      "source": [
        "# Mengambil Data Terdekat Dengan Target\n",
        "data = pd.read_csv(\"deteksi_uang_palsu.csv\")\n",
        "\n",
        "test_data = pd.DataFrame({\n",
        "    'is_genuine': [True],\n",
        "    'diagonal': [172.20],\n",
        "    'height_left': [104.12],\n",
        "    'height_right': [103.64],\n",
        "    'margin_low': [4.38],\n",
        "    'margin_up': [3.00],\n",
        "    'length': [113.18]\n",
        "})\n",
        "\n",
        "# Menghitung Jarak\n",
        "distances = pd.DataFrame()\n",
        "distances['distance'] = ((data.iloc[:,1:] - test_data.iloc[:,1:])**2).sum(axis=1)**0.5\n",
        "\n",
        "# Menambahkan Kolom Jarak ke Data\n",
        "data['distance'] = distances['distance']\n",
        "\n",
        "# Mengurutkan Data Berdasarkan Jarak Terdekat\n",
        "k = int(math.sqrt(len(data)))\n",
        "sorted_data = data.sort_values(by='distance').head(k)\n",
        "\n",
        "# Melakukan Klasifikasi Berdasarkan Mayoritas Kelas\n",
        "pred_label = sorted_data['is_genuine'].value_counts().idxmax()\n",
        "\n",
        "# Menampilkan Hasil Prediksi\n",
        "print(\"Hasil prediksi: \", pred_label)"
      ],
      "metadata": {
        "id": "JAho0GXZ2QeD",
        "colab": {
          "base_uri": "https://localhost:8080/"
        },
        "outputId": "2a65b9ae-5369-4b67-fed8-e76fb8f41bc9"
      },
      "execution_count": null,
      "outputs": [
        {
          "output_type": "stream",
          "name": "stdout",
          "text": [
            "Hasil prediksi:  True\n"
          ]
        }
      ]
    },
    {
      "cell_type": "markdown",
      "source": [
        "# (3) Analisis"
      ],
      "metadata": {
        "id": "F0N-LXThwiqD"
      }
    },
    {
      "cell_type": "markdown",
      "source": [
        "> Nama : Mohammad Ibnu Praditya\n",
        "\n",
        "> Nim : 2109116125\n"
      ],
      "metadata": {
        "id": "dItRdcTguaHj"
      }
    },
    {
      "cell_type": "markdown",
      "source": [
        "Penjelasan posttest : \n",
        "\n",
        "Pilihlah salah satu tema dari daftar tema ini :  \n",
        "1. Perbankan\n",
        "2. Kesehatan\n",
        "3. Ritel\n",
        "4. Pendidkan\n",
        "\n",
        "Kemudian lakukan analisis dengan menggunakan struktur CRISP-DM\n",
        "\n",
        "Dimulai dari Business Understanding Hingga Data Preparation \n",
        "<img src=\"https://th.bing.com/th/id/R.f8efea41ae3cd96d86fbc5b10f81ad77?rik=K4Dr%2biIaVGvW8g&riu=http%3a%2f%2fwww.dataprix.com%2ffiles%2fCRISPDM%2fMetodologia_CRISP_DM1_html_52cdbecf.png&ehk=6ONLJMCVxE421Sjt2JJPE6MfCzrL7LLhDZQPdkJTLcw%3d&risl=&pid=ImgRaw&r=0\"/>\n",
        "\n",
        "Tentukan judul dengan ketentuan setiap orang di kelas beda-beda judulnya dan sumber datasetnya (contoh bisa prediksi atau aturan asosiasi)\n",
        "\n",
        "Catatan : Tugas ini akan berhubungan dengan posttest terakhir (pertemuan 6)"
      ],
      "metadata": {
        "id": "Vbv4o0Q2uiXZ"
      }
    },
    {
      "cell_type": "markdown",
      "source": [],
      "metadata": {
        "id": "7dfrZZggjR1m"
      }
    },
    {
      "cell_type": "markdown",
      "source": [
        "# Akreditasi Sekolah"
      ],
      "metadata": {
        "id": "_9NPhcqHhcDq"
      }
    },
    {
      "cell_type": "markdown",
      "source": [
        "# Business Understanding"
      ],
      "metadata": {
        "id": "bOu6ecZwh1-g"
      }
    },
    {
      "cell_type": "markdown",
      "source": [
        "Di dalam Dataset ini bertujuan untuk melihat Data dari Siswa Sekolah"
      ],
      "metadata": {
        "id": "x9Qt3nCPiABp"
      }
    },
    {
      "cell_type": "markdown",
      "source": [
        "# Data UnderStanding"
      ],
      "metadata": {
        "id": "9ECM_bxVjulz"
      }
    },
    {
      "cell_type": "code",
      "source": [
        "import pandas as pd"
      ],
      "metadata": {
        "id": "ntwZM8hhssd4"
      },
      "execution_count": null,
      "outputs": []
    },
    {
      "cell_type": "code",
      "source": [
        "df = pd.read_csv('retailMarketingDI.csv')\n",
        "df"
      ],
      "metadata": {
        "colab": {
          "base_uri": "https://localhost:8080/",
          "height": 424
        },
        "id": "P2OnaUdKsvyp",
        "outputId": "0bc21dec-4358-477b-ae1c-b242d961e3d0"
      },
      "execution_count": 72,
      "outputs": [
        {
          "output_type": "execute_result",
          "data": {
            "text/plain": [
              "        Age  Gender OwnHome  Married Location  Salary  Children History  \\\n",
              "0       Old  Female     Own   Single      Far   47500         0    High   \n",
              "1    Middle    Male    Rent   Single    Close   63600         0    High   \n",
              "2     Young  Female    Rent   Single    Close   13500         0     Low   \n",
              "3    Middle    Male     Own  Married    Close   85600         1    High   \n",
              "4    Middle  Female     Own   Single    Close   68400         0    High   \n",
              "..      ...     ...     ...      ...      ...     ...       ...     ...   \n",
              "995   Young  Female    Rent   Single    Close   19400         1     NaN   \n",
              "996  Middle    Male    Rent   Single      Far   40500         1     NaN   \n",
              "997     Old    Male     Own   Single    Close   44800         0  Medium   \n",
              "998  Middle    Male     Own  Married    Close   79000         2  Medium   \n",
              "999   Young    Male    Rent  Married    Close   53600         1  Medium   \n",
              "\n",
              "     Catalogs  AmountSpent  \n",
              "0           6        755.0  \n",
              "1           6       1318.0  \n",
              "2          18        296.0  \n",
              "3          18       2436.0  \n",
              "4          12       1304.0  \n",
              "..        ...          ...  \n",
              "995        18        384.0  \n",
              "996        18       1073.0  \n",
              "997        24       1417.0  \n",
              "998        18        671.0  \n",
              "999        24        973.0  \n",
              "\n",
              "[1000 rows x 10 columns]"
            ],
            "text/html": [
              "\n",
              "  <div id=\"df-18987034-f301-4a9f-9f91-6c2ae85c41ca\">\n",
              "    <div class=\"colab-df-container\">\n",
              "      <div>\n",
              "<style scoped>\n",
              "    .dataframe tbody tr th:only-of-type {\n",
              "        vertical-align: middle;\n",
              "    }\n",
              "\n",
              "    .dataframe tbody tr th {\n",
              "        vertical-align: top;\n",
              "    }\n",
              "\n",
              "    .dataframe thead th {\n",
              "        text-align: right;\n",
              "    }\n",
              "</style>\n",
              "<table border=\"1\" class=\"dataframe\">\n",
              "  <thead>\n",
              "    <tr style=\"text-align: right;\">\n",
              "      <th></th>\n",
              "      <th>Age</th>\n",
              "      <th>Gender</th>\n",
              "      <th>OwnHome</th>\n",
              "      <th>Married</th>\n",
              "      <th>Location</th>\n",
              "      <th>Salary</th>\n",
              "      <th>Children</th>\n",
              "      <th>History</th>\n",
              "      <th>Catalogs</th>\n",
              "      <th>AmountSpent</th>\n",
              "    </tr>\n",
              "  </thead>\n",
              "  <tbody>\n",
              "    <tr>\n",
              "      <th>0</th>\n",
              "      <td>Old</td>\n",
              "      <td>Female</td>\n",
              "      <td>Own</td>\n",
              "      <td>Single</td>\n",
              "      <td>Far</td>\n",
              "      <td>47500</td>\n",
              "      <td>0</td>\n",
              "      <td>High</td>\n",
              "      <td>6</td>\n",
              "      <td>755.0</td>\n",
              "    </tr>\n",
              "    <tr>\n",
              "      <th>1</th>\n",
              "      <td>Middle</td>\n",
              "      <td>Male</td>\n",
              "      <td>Rent</td>\n",
              "      <td>Single</td>\n",
              "      <td>Close</td>\n",
              "      <td>63600</td>\n",
              "      <td>0</td>\n",
              "      <td>High</td>\n",
              "      <td>6</td>\n",
              "      <td>1318.0</td>\n",
              "    </tr>\n",
              "    <tr>\n",
              "      <th>2</th>\n",
              "      <td>Young</td>\n",
              "      <td>Female</td>\n",
              "      <td>Rent</td>\n",
              "      <td>Single</td>\n",
              "      <td>Close</td>\n",
              "      <td>13500</td>\n",
              "      <td>0</td>\n",
              "      <td>Low</td>\n",
              "      <td>18</td>\n",
              "      <td>296.0</td>\n",
              "    </tr>\n",
              "    <tr>\n",
              "      <th>3</th>\n",
              "      <td>Middle</td>\n",
              "      <td>Male</td>\n",
              "      <td>Own</td>\n",
              "      <td>Married</td>\n",
              "      <td>Close</td>\n",
              "      <td>85600</td>\n",
              "      <td>1</td>\n",
              "      <td>High</td>\n",
              "      <td>18</td>\n",
              "      <td>2436.0</td>\n",
              "    </tr>\n",
              "    <tr>\n",
              "      <th>4</th>\n",
              "      <td>Middle</td>\n",
              "      <td>Female</td>\n",
              "      <td>Own</td>\n",
              "      <td>Single</td>\n",
              "      <td>Close</td>\n",
              "      <td>68400</td>\n",
              "      <td>0</td>\n",
              "      <td>High</td>\n",
              "      <td>12</td>\n",
              "      <td>1304.0</td>\n",
              "    </tr>\n",
              "    <tr>\n",
              "      <th>...</th>\n",
              "      <td>...</td>\n",
              "      <td>...</td>\n",
              "      <td>...</td>\n",
              "      <td>...</td>\n",
              "      <td>...</td>\n",
              "      <td>...</td>\n",
              "      <td>...</td>\n",
              "      <td>...</td>\n",
              "      <td>...</td>\n",
              "      <td>...</td>\n",
              "    </tr>\n",
              "    <tr>\n",
              "      <th>995</th>\n",
              "      <td>Young</td>\n",
              "      <td>Female</td>\n",
              "      <td>Rent</td>\n",
              "      <td>Single</td>\n",
              "      <td>Close</td>\n",
              "      <td>19400</td>\n",
              "      <td>1</td>\n",
              "      <td>NaN</td>\n",
              "      <td>18</td>\n",
              "      <td>384.0</td>\n",
              "    </tr>\n",
              "    <tr>\n",
              "      <th>996</th>\n",
              "      <td>Middle</td>\n",
              "      <td>Male</td>\n",
              "      <td>Rent</td>\n",
              "      <td>Single</td>\n",
              "      <td>Far</td>\n",
              "      <td>40500</td>\n",
              "      <td>1</td>\n",
              "      <td>NaN</td>\n",
              "      <td>18</td>\n",
              "      <td>1073.0</td>\n",
              "    </tr>\n",
              "    <tr>\n",
              "      <th>997</th>\n",
              "      <td>Old</td>\n",
              "      <td>Male</td>\n",
              "      <td>Own</td>\n",
              "      <td>Single</td>\n",
              "      <td>Close</td>\n",
              "      <td>44800</td>\n",
              "      <td>0</td>\n",
              "      <td>Medium</td>\n",
              "      <td>24</td>\n",
              "      <td>1417.0</td>\n",
              "    </tr>\n",
              "    <tr>\n",
              "      <th>998</th>\n",
              "      <td>Middle</td>\n",
              "      <td>Male</td>\n",
              "      <td>Own</td>\n",
              "      <td>Married</td>\n",
              "      <td>Close</td>\n",
              "      <td>79000</td>\n",
              "      <td>2</td>\n",
              "      <td>Medium</td>\n",
              "      <td>18</td>\n",
              "      <td>671.0</td>\n",
              "    </tr>\n",
              "    <tr>\n",
              "      <th>999</th>\n",
              "      <td>Young</td>\n",
              "      <td>Male</td>\n",
              "      <td>Rent</td>\n",
              "      <td>Married</td>\n",
              "      <td>Close</td>\n",
              "      <td>53600</td>\n",
              "      <td>1</td>\n",
              "      <td>Medium</td>\n",
              "      <td>24</td>\n",
              "      <td>973.0</td>\n",
              "    </tr>\n",
              "  </tbody>\n",
              "</table>\n",
              "<p>1000 rows × 10 columns</p>\n",
              "</div>\n",
              "      <button class=\"colab-df-convert\" onclick=\"convertToInteractive('df-18987034-f301-4a9f-9f91-6c2ae85c41ca')\"\n",
              "              title=\"Convert this dataframe to an interactive table.\"\n",
              "              style=\"display:none;\">\n",
              "        \n",
              "  <svg xmlns=\"http://www.w3.org/2000/svg\" height=\"24px\"viewBox=\"0 0 24 24\"\n",
              "       width=\"24px\">\n",
              "    <path d=\"M0 0h24v24H0V0z\" fill=\"none\"/>\n",
              "    <path d=\"M18.56 5.44l.94 2.06.94-2.06 2.06-.94-2.06-.94-.94-2.06-.94 2.06-2.06.94zm-11 1L8.5 8.5l.94-2.06 2.06-.94-2.06-.94L8.5 2.5l-.94 2.06-2.06.94zm10 10l.94 2.06.94-2.06 2.06-.94-2.06-.94-.94-2.06-.94 2.06-2.06.94z\"/><path d=\"M17.41 7.96l-1.37-1.37c-.4-.4-.92-.59-1.43-.59-.52 0-1.04.2-1.43.59L10.3 9.45l-7.72 7.72c-.78.78-.78 2.05 0 2.83L4 21.41c.39.39.9.59 1.41.59.51 0 1.02-.2 1.41-.59l7.78-7.78 2.81-2.81c.8-.78.8-2.07 0-2.86zM5.41 20L4 18.59l7.72-7.72 1.47 1.35L5.41 20z\"/>\n",
              "  </svg>\n",
              "      </button>\n",
              "      \n",
              "  <style>\n",
              "    .colab-df-container {\n",
              "      display:flex;\n",
              "      flex-wrap:wrap;\n",
              "      gap: 12px;\n",
              "    }\n",
              "\n",
              "    .colab-df-convert {\n",
              "      background-color: #E8F0FE;\n",
              "      border: none;\n",
              "      border-radius: 50%;\n",
              "      cursor: pointer;\n",
              "      display: none;\n",
              "      fill: #1967D2;\n",
              "      height: 32px;\n",
              "      padding: 0 0 0 0;\n",
              "      width: 32px;\n",
              "    }\n",
              "\n",
              "    .colab-df-convert:hover {\n",
              "      background-color: #E2EBFA;\n",
              "      box-shadow: 0px 1px 2px rgba(60, 64, 67, 0.3), 0px 1px 3px 1px rgba(60, 64, 67, 0.15);\n",
              "      fill: #174EA6;\n",
              "    }\n",
              "\n",
              "    [theme=dark] .colab-df-convert {\n",
              "      background-color: #3B4455;\n",
              "      fill: #D2E3FC;\n",
              "    }\n",
              "\n",
              "    [theme=dark] .colab-df-convert:hover {\n",
              "      background-color: #434B5C;\n",
              "      box-shadow: 0px 1px 3px 1px rgba(0, 0, 0, 0.15);\n",
              "      filter: drop-shadow(0px 1px 2px rgba(0, 0, 0, 0.3));\n",
              "      fill: #FFFFFF;\n",
              "    }\n",
              "  </style>\n",
              "\n",
              "      <script>\n",
              "        const buttonEl =\n",
              "          document.querySelector('#df-18987034-f301-4a9f-9f91-6c2ae85c41ca button.colab-df-convert');\n",
              "        buttonEl.style.display =\n",
              "          google.colab.kernel.accessAllowed ? 'block' : 'none';\n",
              "\n",
              "        async function convertToInteractive(key) {\n",
              "          const element = document.querySelector('#df-18987034-f301-4a9f-9f91-6c2ae85c41ca');\n",
              "          const dataTable =\n",
              "            await google.colab.kernel.invokeFunction('convertToInteractive',\n",
              "                                                     [key], {});\n",
              "          if (!dataTable) return;\n",
              "\n",
              "          const docLinkHtml = 'Like what you see? Visit the ' +\n",
              "            '<a target=\"_blank\" href=https://colab.research.google.com/notebooks/data_table.ipynb>data table notebook</a>'\n",
              "            + ' to learn more about interactive tables.';\n",
              "          element.innerHTML = '';\n",
              "          dataTable['output_type'] = 'display_data';\n",
              "          await google.colab.output.renderOutput(dataTable, element);\n",
              "          const docLink = document.createElement('div');\n",
              "          docLink.innerHTML = docLinkHtml;\n",
              "          element.appendChild(docLink);\n",
              "        }\n",
              "      </script>\n",
              "    </div>\n",
              "  </div>\n",
              "  "
            ]
          },
          "metadata": {},
          "execution_count": 72
        }
      ]
    },
    {
      "cell_type": "code",
      "source": [
        "df.isna().sum()"
      ],
      "metadata": {
        "colab": {
          "base_uri": "https://localhost:8080/"
        },
        "id": "nKcYfFertFkt",
        "outputId": "66ae6541-e4a6-49b5-ad0f-5cd826ad5617"
      },
      "execution_count": 73,
      "outputs": [
        {
          "output_type": "execute_result",
          "data": {
            "text/plain": [
              "Age              0\n",
              "Gender           0\n",
              "OwnHome          0\n",
              "Married          0\n",
              "Location         0\n",
              "Salary           0\n",
              "Children         0\n",
              "History        303\n",
              "Catalogs         0\n",
              "AmountSpent      6\n",
              "dtype: int64"
            ]
          },
          "metadata": {},
          "execution_count": 73
        }
      ]
    },
    {
      "cell_type": "code",
      "source": [
        "import pandas as pd\n",
        "import seaborn as sns \n",
        "import plotly.express as px\n",
        "import numpy as np\n",
        "import matplotlib.pyplot as plt\n",
        "pd.options.mode.chained_assignment = None\n",
        "sns.set(style = 'whitegrid')\n",
        "import textwrap"
      ],
      "metadata": {
        "id": "MfZ4ShYsZcBg"
      },
      "execution_count": null,
      "outputs": []
    },
    {
      "cell_type": "markdown",
      "source": [
        "# Collect Intial Data "
      ],
      "metadata": {
        "id": "VIAx-nRskRJ_"
      }
    },
    {
      "cell_type": "code",
      "source": [
        "df = pd.read_csv(\"retailMarketingDI.csv\")\n",
        "df"
      ],
      "metadata": {
        "colab": {
          "base_uri": "https://localhost:8080/",
          "height": 424
        },
        "id": "T2FSeOlPZhZO",
        "outputId": "b9516f1a-8d0d-4656-8643-d81f7a681be6"
      },
      "execution_count": 74,
      "outputs": [
        {
          "output_type": "execute_result",
          "data": {
            "text/plain": [
              "        Age  Gender OwnHome  Married Location  Salary  Children History  \\\n",
              "0       Old  Female     Own   Single      Far   47500         0    High   \n",
              "1    Middle    Male    Rent   Single    Close   63600         0    High   \n",
              "2     Young  Female    Rent   Single    Close   13500         0     Low   \n",
              "3    Middle    Male     Own  Married    Close   85600         1    High   \n",
              "4    Middle  Female     Own   Single    Close   68400         0    High   \n",
              "..      ...     ...     ...      ...      ...     ...       ...     ...   \n",
              "995   Young  Female    Rent   Single    Close   19400         1     NaN   \n",
              "996  Middle    Male    Rent   Single      Far   40500         1     NaN   \n",
              "997     Old    Male     Own   Single    Close   44800         0  Medium   \n",
              "998  Middle    Male     Own  Married    Close   79000         2  Medium   \n",
              "999   Young    Male    Rent  Married    Close   53600         1  Medium   \n",
              "\n",
              "     Catalogs  AmountSpent  \n",
              "0           6        755.0  \n",
              "1           6       1318.0  \n",
              "2          18        296.0  \n",
              "3          18       2436.0  \n",
              "4          12       1304.0  \n",
              "..        ...          ...  \n",
              "995        18        384.0  \n",
              "996        18       1073.0  \n",
              "997        24       1417.0  \n",
              "998        18        671.0  \n",
              "999        24        973.0  \n",
              "\n",
              "[1000 rows x 10 columns]"
            ],
            "text/html": [
              "\n",
              "  <div id=\"df-07413753-0c60-4572-80cd-018569fa6689\">\n",
              "    <div class=\"colab-df-container\">\n",
              "      <div>\n",
              "<style scoped>\n",
              "    .dataframe tbody tr th:only-of-type {\n",
              "        vertical-align: middle;\n",
              "    }\n",
              "\n",
              "    .dataframe tbody tr th {\n",
              "        vertical-align: top;\n",
              "    }\n",
              "\n",
              "    .dataframe thead th {\n",
              "        text-align: right;\n",
              "    }\n",
              "</style>\n",
              "<table border=\"1\" class=\"dataframe\">\n",
              "  <thead>\n",
              "    <tr style=\"text-align: right;\">\n",
              "      <th></th>\n",
              "      <th>Age</th>\n",
              "      <th>Gender</th>\n",
              "      <th>OwnHome</th>\n",
              "      <th>Married</th>\n",
              "      <th>Location</th>\n",
              "      <th>Salary</th>\n",
              "      <th>Children</th>\n",
              "      <th>History</th>\n",
              "      <th>Catalogs</th>\n",
              "      <th>AmountSpent</th>\n",
              "    </tr>\n",
              "  </thead>\n",
              "  <tbody>\n",
              "    <tr>\n",
              "      <th>0</th>\n",
              "      <td>Old</td>\n",
              "      <td>Female</td>\n",
              "      <td>Own</td>\n",
              "      <td>Single</td>\n",
              "      <td>Far</td>\n",
              "      <td>47500</td>\n",
              "      <td>0</td>\n",
              "      <td>High</td>\n",
              "      <td>6</td>\n",
              "      <td>755.0</td>\n",
              "    </tr>\n",
              "    <tr>\n",
              "      <th>1</th>\n",
              "      <td>Middle</td>\n",
              "      <td>Male</td>\n",
              "      <td>Rent</td>\n",
              "      <td>Single</td>\n",
              "      <td>Close</td>\n",
              "      <td>63600</td>\n",
              "      <td>0</td>\n",
              "      <td>High</td>\n",
              "      <td>6</td>\n",
              "      <td>1318.0</td>\n",
              "    </tr>\n",
              "    <tr>\n",
              "      <th>2</th>\n",
              "      <td>Young</td>\n",
              "      <td>Female</td>\n",
              "      <td>Rent</td>\n",
              "      <td>Single</td>\n",
              "      <td>Close</td>\n",
              "      <td>13500</td>\n",
              "      <td>0</td>\n",
              "      <td>Low</td>\n",
              "      <td>18</td>\n",
              "      <td>296.0</td>\n",
              "    </tr>\n",
              "    <tr>\n",
              "      <th>3</th>\n",
              "      <td>Middle</td>\n",
              "      <td>Male</td>\n",
              "      <td>Own</td>\n",
              "      <td>Married</td>\n",
              "      <td>Close</td>\n",
              "      <td>85600</td>\n",
              "      <td>1</td>\n",
              "      <td>High</td>\n",
              "      <td>18</td>\n",
              "      <td>2436.0</td>\n",
              "    </tr>\n",
              "    <tr>\n",
              "      <th>4</th>\n",
              "      <td>Middle</td>\n",
              "      <td>Female</td>\n",
              "      <td>Own</td>\n",
              "      <td>Single</td>\n",
              "      <td>Close</td>\n",
              "      <td>68400</td>\n",
              "      <td>0</td>\n",
              "      <td>High</td>\n",
              "      <td>12</td>\n",
              "      <td>1304.0</td>\n",
              "    </tr>\n",
              "    <tr>\n",
              "      <th>...</th>\n",
              "      <td>...</td>\n",
              "      <td>...</td>\n",
              "      <td>...</td>\n",
              "      <td>...</td>\n",
              "      <td>...</td>\n",
              "      <td>...</td>\n",
              "      <td>...</td>\n",
              "      <td>...</td>\n",
              "      <td>...</td>\n",
              "      <td>...</td>\n",
              "    </tr>\n",
              "    <tr>\n",
              "      <th>995</th>\n",
              "      <td>Young</td>\n",
              "      <td>Female</td>\n",
              "      <td>Rent</td>\n",
              "      <td>Single</td>\n",
              "      <td>Close</td>\n",
              "      <td>19400</td>\n",
              "      <td>1</td>\n",
              "      <td>NaN</td>\n",
              "      <td>18</td>\n",
              "      <td>384.0</td>\n",
              "    </tr>\n",
              "    <tr>\n",
              "      <th>996</th>\n",
              "      <td>Middle</td>\n",
              "      <td>Male</td>\n",
              "      <td>Rent</td>\n",
              "      <td>Single</td>\n",
              "      <td>Far</td>\n",
              "      <td>40500</td>\n",
              "      <td>1</td>\n",
              "      <td>NaN</td>\n",
              "      <td>18</td>\n",
              "      <td>1073.0</td>\n",
              "    </tr>\n",
              "    <tr>\n",
              "      <th>997</th>\n",
              "      <td>Old</td>\n",
              "      <td>Male</td>\n",
              "      <td>Own</td>\n",
              "      <td>Single</td>\n",
              "      <td>Close</td>\n",
              "      <td>44800</td>\n",
              "      <td>0</td>\n",
              "      <td>Medium</td>\n",
              "      <td>24</td>\n",
              "      <td>1417.0</td>\n",
              "    </tr>\n",
              "    <tr>\n",
              "      <th>998</th>\n",
              "      <td>Middle</td>\n",
              "      <td>Male</td>\n",
              "      <td>Own</td>\n",
              "      <td>Married</td>\n",
              "      <td>Close</td>\n",
              "      <td>79000</td>\n",
              "      <td>2</td>\n",
              "      <td>Medium</td>\n",
              "      <td>18</td>\n",
              "      <td>671.0</td>\n",
              "    </tr>\n",
              "    <tr>\n",
              "      <th>999</th>\n",
              "      <td>Young</td>\n",
              "      <td>Male</td>\n",
              "      <td>Rent</td>\n",
              "      <td>Married</td>\n",
              "      <td>Close</td>\n",
              "      <td>53600</td>\n",
              "      <td>1</td>\n",
              "      <td>Medium</td>\n",
              "      <td>24</td>\n",
              "      <td>973.0</td>\n",
              "    </tr>\n",
              "  </tbody>\n",
              "</table>\n",
              "<p>1000 rows × 10 columns</p>\n",
              "</div>\n",
              "      <button class=\"colab-df-convert\" onclick=\"convertToInteractive('df-07413753-0c60-4572-80cd-018569fa6689')\"\n",
              "              title=\"Convert this dataframe to an interactive table.\"\n",
              "              style=\"display:none;\">\n",
              "        \n",
              "  <svg xmlns=\"http://www.w3.org/2000/svg\" height=\"24px\"viewBox=\"0 0 24 24\"\n",
              "       width=\"24px\">\n",
              "    <path d=\"M0 0h24v24H0V0z\" fill=\"none\"/>\n",
              "    <path d=\"M18.56 5.44l.94 2.06.94-2.06 2.06-.94-2.06-.94-.94-2.06-.94 2.06-2.06.94zm-11 1L8.5 8.5l.94-2.06 2.06-.94-2.06-.94L8.5 2.5l-.94 2.06-2.06.94zm10 10l.94 2.06.94-2.06 2.06-.94-2.06-.94-.94-2.06-.94 2.06-2.06.94z\"/><path d=\"M17.41 7.96l-1.37-1.37c-.4-.4-.92-.59-1.43-.59-.52 0-1.04.2-1.43.59L10.3 9.45l-7.72 7.72c-.78.78-.78 2.05 0 2.83L4 21.41c.39.39.9.59 1.41.59.51 0 1.02-.2 1.41-.59l7.78-7.78 2.81-2.81c.8-.78.8-2.07 0-2.86zM5.41 20L4 18.59l7.72-7.72 1.47 1.35L5.41 20z\"/>\n",
              "  </svg>\n",
              "      </button>\n",
              "      \n",
              "  <style>\n",
              "    .colab-df-container {\n",
              "      display:flex;\n",
              "      flex-wrap:wrap;\n",
              "      gap: 12px;\n",
              "    }\n",
              "\n",
              "    .colab-df-convert {\n",
              "      background-color: #E8F0FE;\n",
              "      border: none;\n",
              "      border-radius: 50%;\n",
              "      cursor: pointer;\n",
              "      display: none;\n",
              "      fill: #1967D2;\n",
              "      height: 32px;\n",
              "      padding: 0 0 0 0;\n",
              "      width: 32px;\n",
              "    }\n",
              "\n",
              "    .colab-df-convert:hover {\n",
              "      background-color: #E2EBFA;\n",
              "      box-shadow: 0px 1px 2px rgba(60, 64, 67, 0.3), 0px 1px 3px 1px rgba(60, 64, 67, 0.15);\n",
              "      fill: #174EA6;\n",
              "    }\n",
              "\n",
              "    [theme=dark] .colab-df-convert {\n",
              "      background-color: #3B4455;\n",
              "      fill: #D2E3FC;\n",
              "    }\n",
              "\n",
              "    [theme=dark] .colab-df-convert:hover {\n",
              "      background-color: #434B5C;\n",
              "      box-shadow: 0px 1px 3px 1px rgba(0, 0, 0, 0.15);\n",
              "      filter: drop-shadow(0px 1px 2px rgba(0, 0, 0, 0.3));\n",
              "      fill: #FFFFFF;\n",
              "    }\n",
              "  </style>\n",
              "\n",
              "      <script>\n",
              "        const buttonEl =\n",
              "          document.querySelector('#df-07413753-0c60-4572-80cd-018569fa6689 button.colab-df-convert');\n",
              "        buttonEl.style.display =\n",
              "          google.colab.kernel.accessAllowed ? 'block' : 'none';\n",
              "\n",
              "        async function convertToInteractive(key) {\n",
              "          const element = document.querySelector('#df-07413753-0c60-4572-80cd-018569fa6689');\n",
              "          const dataTable =\n",
              "            await google.colab.kernel.invokeFunction('convertToInteractive',\n",
              "                                                     [key], {});\n",
              "          if (!dataTable) return;\n",
              "\n",
              "          const docLinkHtml = 'Like what you see? Visit the ' +\n",
              "            '<a target=\"_blank\" href=https://colab.research.google.com/notebooks/data_table.ipynb>data table notebook</a>'\n",
              "            + ' to learn more about interactive tables.';\n",
              "          element.innerHTML = '';\n",
              "          dataTable['output_type'] = 'display_data';\n",
              "          await google.colab.output.renderOutput(dataTable, element);\n",
              "          const docLink = document.createElement('div');\n",
              "          docLink.innerHTML = docLinkHtml;\n",
              "          element.appendChild(docLink);\n",
              "        }\n",
              "      </script>\n",
              "    </div>\n",
              "  </div>\n",
              "  "
            ]
          },
          "metadata": {},
          "execution_count": 74
        }
      ]
    },
    {
      "cell_type": "code",
      "source": [
        "df.head()"
      ],
      "metadata": {
        "colab": {
          "base_uri": "https://localhost:8080/",
          "height": 206
        },
        "id": "nWwuVuu7kf45",
        "outputId": "25afb570-77d0-48dd-ea09-cd10ab001930"
      },
      "execution_count": 75,
      "outputs": [
        {
          "output_type": "execute_result",
          "data": {
            "text/plain": [
              "      Age  Gender OwnHome  Married Location  Salary  Children History  \\\n",
              "0     Old  Female     Own   Single      Far   47500         0    High   \n",
              "1  Middle    Male    Rent   Single    Close   63600         0    High   \n",
              "2   Young  Female    Rent   Single    Close   13500         0     Low   \n",
              "3  Middle    Male     Own  Married    Close   85600         1    High   \n",
              "4  Middle  Female     Own   Single    Close   68400         0    High   \n",
              "\n",
              "   Catalogs  AmountSpent  \n",
              "0         6        755.0  \n",
              "1         6       1318.0  \n",
              "2        18        296.0  \n",
              "3        18       2436.0  \n",
              "4        12       1304.0  "
            ],
            "text/html": [
              "\n",
              "  <div id=\"df-91707b7d-b10f-4d49-a348-a5634919b411\">\n",
              "    <div class=\"colab-df-container\">\n",
              "      <div>\n",
              "<style scoped>\n",
              "    .dataframe tbody tr th:only-of-type {\n",
              "        vertical-align: middle;\n",
              "    }\n",
              "\n",
              "    .dataframe tbody tr th {\n",
              "        vertical-align: top;\n",
              "    }\n",
              "\n",
              "    .dataframe thead th {\n",
              "        text-align: right;\n",
              "    }\n",
              "</style>\n",
              "<table border=\"1\" class=\"dataframe\">\n",
              "  <thead>\n",
              "    <tr style=\"text-align: right;\">\n",
              "      <th></th>\n",
              "      <th>Age</th>\n",
              "      <th>Gender</th>\n",
              "      <th>OwnHome</th>\n",
              "      <th>Married</th>\n",
              "      <th>Location</th>\n",
              "      <th>Salary</th>\n",
              "      <th>Children</th>\n",
              "      <th>History</th>\n",
              "      <th>Catalogs</th>\n",
              "      <th>AmountSpent</th>\n",
              "    </tr>\n",
              "  </thead>\n",
              "  <tbody>\n",
              "    <tr>\n",
              "      <th>0</th>\n",
              "      <td>Old</td>\n",
              "      <td>Female</td>\n",
              "      <td>Own</td>\n",
              "      <td>Single</td>\n",
              "      <td>Far</td>\n",
              "      <td>47500</td>\n",
              "      <td>0</td>\n",
              "      <td>High</td>\n",
              "      <td>6</td>\n",
              "      <td>755.0</td>\n",
              "    </tr>\n",
              "    <tr>\n",
              "      <th>1</th>\n",
              "      <td>Middle</td>\n",
              "      <td>Male</td>\n",
              "      <td>Rent</td>\n",
              "      <td>Single</td>\n",
              "      <td>Close</td>\n",
              "      <td>63600</td>\n",
              "      <td>0</td>\n",
              "      <td>High</td>\n",
              "      <td>6</td>\n",
              "      <td>1318.0</td>\n",
              "    </tr>\n",
              "    <tr>\n",
              "      <th>2</th>\n",
              "      <td>Young</td>\n",
              "      <td>Female</td>\n",
              "      <td>Rent</td>\n",
              "      <td>Single</td>\n",
              "      <td>Close</td>\n",
              "      <td>13500</td>\n",
              "      <td>0</td>\n",
              "      <td>Low</td>\n",
              "      <td>18</td>\n",
              "      <td>296.0</td>\n",
              "    </tr>\n",
              "    <tr>\n",
              "      <th>3</th>\n",
              "      <td>Middle</td>\n",
              "      <td>Male</td>\n",
              "      <td>Own</td>\n",
              "      <td>Married</td>\n",
              "      <td>Close</td>\n",
              "      <td>85600</td>\n",
              "      <td>1</td>\n",
              "      <td>High</td>\n",
              "      <td>18</td>\n",
              "      <td>2436.0</td>\n",
              "    </tr>\n",
              "    <tr>\n",
              "      <th>4</th>\n",
              "      <td>Middle</td>\n",
              "      <td>Female</td>\n",
              "      <td>Own</td>\n",
              "      <td>Single</td>\n",
              "      <td>Close</td>\n",
              "      <td>68400</td>\n",
              "      <td>0</td>\n",
              "      <td>High</td>\n",
              "      <td>12</td>\n",
              "      <td>1304.0</td>\n",
              "    </tr>\n",
              "  </tbody>\n",
              "</table>\n",
              "</div>\n",
              "      <button class=\"colab-df-convert\" onclick=\"convertToInteractive('df-91707b7d-b10f-4d49-a348-a5634919b411')\"\n",
              "              title=\"Convert this dataframe to an interactive table.\"\n",
              "              style=\"display:none;\">\n",
              "        \n",
              "  <svg xmlns=\"http://www.w3.org/2000/svg\" height=\"24px\"viewBox=\"0 0 24 24\"\n",
              "       width=\"24px\">\n",
              "    <path d=\"M0 0h24v24H0V0z\" fill=\"none\"/>\n",
              "    <path d=\"M18.56 5.44l.94 2.06.94-2.06 2.06-.94-2.06-.94-.94-2.06-.94 2.06-2.06.94zm-11 1L8.5 8.5l.94-2.06 2.06-.94-2.06-.94L8.5 2.5l-.94 2.06-2.06.94zm10 10l.94 2.06.94-2.06 2.06-.94-2.06-.94-.94-2.06-.94 2.06-2.06.94z\"/><path d=\"M17.41 7.96l-1.37-1.37c-.4-.4-.92-.59-1.43-.59-.52 0-1.04.2-1.43.59L10.3 9.45l-7.72 7.72c-.78.78-.78 2.05 0 2.83L4 21.41c.39.39.9.59 1.41.59.51 0 1.02-.2 1.41-.59l7.78-7.78 2.81-2.81c.8-.78.8-2.07 0-2.86zM5.41 20L4 18.59l7.72-7.72 1.47 1.35L5.41 20z\"/>\n",
              "  </svg>\n",
              "      </button>\n",
              "      \n",
              "  <style>\n",
              "    .colab-df-container {\n",
              "      display:flex;\n",
              "      flex-wrap:wrap;\n",
              "      gap: 12px;\n",
              "    }\n",
              "\n",
              "    .colab-df-convert {\n",
              "      background-color: #E8F0FE;\n",
              "      border: none;\n",
              "      border-radius: 50%;\n",
              "      cursor: pointer;\n",
              "      display: none;\n",
              "      fill: #1967D2;\n",
              "      height: 32px;\n",
              "      padding: 0 0 0 0;\n",
              "      width: 32px;\n",
              "    }\n",
              "\n",
              "    .colab-df-convert:hover {\n",
              "      background-color: #E2EBFA;\n",
              "      box-shadow: 0px 1px 2px rgba(60, 64, 67, 0.3), 0px 1px 3px 1px rgba(60, 64, 67, 0.15);\n",
              "      fill: #174EA6;\n",
              "    }\n",
              "\n",
              "    [theme=dark] .colab-df-convert {\n",
              "      background-color: #3B4455;\n",
              "      fill: #D2E3FC;\n",
              "    }\n",
              "\n",
              "    [theme=dark] .colab-df-convert:hover {\n",
              "      background-color: #434B5C;\n",
              "      box-shadow: 0px 1px 3px 1px rgba(0, 0, 0, 0.15);\n",
              "      filter: drop-shadow(0px 1px 2px rgba(0, 0, 0, 0.3));\n",
              "      fill: #FFFFFF;\n",
              "    }\n",
              "  </style>\n",
              "\n",
              "      <script>\n",
              "        const buttonEl =\n",
              "          document.querySelector('#df-91707b7d-b10f-4d49-a348-a5634919b411 button.colab-df-convert');\n",
              "        buttonEl.style.display =\n",
              "          google.colab.kernel.accessAllowed ? 'block' : 'none';\n",
              "\n",
              "        async function convertToInteractive(key) {\n",
              "          const element = document.querySelector('#df-91707b7d-b10f-4d49-a348-a5634919b411');\n",
              "          const dataTable =\n",
              "            await google.colab.kernel.invokeFunction('convertToInteractive',\n",
              "                                                     [key], {});\n",
              "          if (!dataTable) return;\n",
              "\n",
              "          const docLinkHtml = 'Like what you see? Visit the ' +\n",
              "            '<a target=\"_blank\" href=https://colab.research.google.com/notebooks/data_table.ipynb>data table notebook</a>'\n",
              "            + ' to learn more about interactive tables.';\n",
              "          element.innerHTML = '';\n",
              "          dataTable['output_type'] = 'display_data';\n",
              "          await google.colab.output.renderOutput(dataTable, element);\n",
              "          const docLink = document.createElement('div');\n",
              "          docLink.innerHTML = docLinkHtml;\n",
              "          element.appendChild(docLink);\n",
              "        }\n",
              "      </script>\n",
              "    </div>\n",
              "  </div>\n",
              "  "
            ]
          },
          "metadata": {},
          "execution_count": 75
        }
      ]
    },
    {
      "cell_type": "code",
      "source": [
        "df.tail()"
      ],
      "metadata": {
        "colab": {
          "base_uri": "https://localhost:8080/",
          "height": 206
        },
        "id": "RVZ21-Wjkj2o",
        "outputId": "cfa565e8-a1a0-48ad-8a46-444b5d5ab3e8"
      },
      "execution_count": 76,
      "outputs": [
        {
          "output_type": "execute_result",
          "data": {
            "text/plain": [
              "        Age  Gender OwnHome  Married Location  Salary  Children History  \\\n",
              "995   Young  Female    Rent   Single    Close   19400         1     NaN   \n",
              "996  Middle    Male    Rent   Single      Far   40500         1     NaN   \n",
              "997     Old    Male     Own   Single    Close   44800         0  Medium   \n",
              "998  Middle    Male     Own  Married    Close   79000         2  Medium   \n",
              "999   Young    Male    Rent  Married    Close   53600         1  Medium   \n",
              "\n",
              "     Catalogs  AmountSpent  \n",
              "995        18        384.0  \n",
              "996        18       1073.0  \n",
              "997        24       1417.0  \n",
              "998        18        671.0  \n",
              "999        24        973.0  "
            ],
            "text/html": [
              "\n",
              "  <div id=\"df-300807bd-e311-4efc-81fc-9c19e150e644\">\n",
              "    <div class=\"colab-df-container\">\n",
              "      <div>\n",
              "<style scoped>\n",
              "    .dataframe tbody tr th:only-of-type {\n",
              "        vertical-align: middle;\n",
              "    }\n",
              "\n",
              "    .dataframe tbody tr th {\n",
              "        vertical-align: top;\n",
              "    }\n",
              "\n",
              "    .dataframe thead th {\n",
              "        text-align: right;\n",
              "    }\n",
              "</style>\n",
              "<table border=\"1\" class=\"dataframe\">\n",
              "  <thead>\n",
              "    <tr style=\"text-align: right;\">\n",
              "      <th></th>\n",
              "      <th>Age</th>\n",
              "      <th>Gender</th>\n",
              "      <th>OwnHome</th>\n",
              "      <th>Married</th>\n",
              "      <th>Location</th>\n",
              "      <th>Salary</th>\n",
              "      <th>Children</th>\n",
              "      <th>History</th>\n",
              "      <th>Catalogs</th>\n",
              "      <th>AmountSpent</th>\n",
              "    </tr>\n",
              "  </thead>\n",
              "  <tbody>\n",
              "    <tr>\n",
              "      <th>995</th>\n",
              "      <td>Young</td>\n",
              "      <td>Female</td>\n",
              "      <td>Rent</td>\n",
              "      <td>Single</td>\n",
              "      <td>Close</td>\n",
              "      <td>19400</td>\n",
              "      <td>1</td>\n",
              "      <td>NaN</td>\n",
              "      <td>18</td>\n",
              "      <td>384.0</td>\n",
              "    </tr>\n",
              "    <tr>\n",
              "      <th>996</th>\n",
              "      <td>Middle</td>\n",
              "      <td>Male</td>\n",
              "      <td>Rent</td>\n",
              "      <td>Single</td>\n",
              "      <td>Far</td>\n",
              "      <td>40500</td>\n",
              "      <td>1</td>\n",
              "      <td>NaN</td>\n",
              "      <td>18</td>\n",
              "      <td>1073.0</td>\n",
              "    </tr>\n",
              "    <tr>\n",
              "      <th>997</th>\n",
              "      <td>Old</td>\n",
              "      <td>Male</td>\n",
              "      <td>Own</td>\n",
              "      <td>Single</td>\n",
              "      <td>Close</td>\n",
              "      <td>44800</td>\n",
              "      <td>0</td>\n",
              "      <td>Medium</td>\n",
              "      <td>24</td>\n",
              "      <td>1417.0</td>\n",
              "    </tr>\n",
              "    <tr>\n",
              "      <th>998</th>\n",
              "      <td>Middle</td>\n",
              "      <td>Male</td>\n",
              "      <td>Own</td>\n",
              "      <td>Married</td>\n",
              "      <td>Close</td>\n",
              "      <td>79000</td>\n",
              "      <td>2</td>\n",
              "      <td>Medium</td>\n",
              "      <td>18</td>\n",
              "      <td>671.0</td>\n",
              "    </tr>\n",
              "    <tr>\n",
              "      <th>999</th>\n",
              "      <td>Young</td>\n",
              "      <td>Male</td>\n",
              "      <td>Rent</td>\n",
              "      <td>Married</td>\n",
              "      <td>Close</td>\n",
              "      <td>53600</td>\n",
              "      <td>1</td>\n",
              "      <td>Medium</td>\n",
              "      <td>24</td>\n",
              "      <td>973.0</td>\n",
              "    </tr>\n",
              "  </tbody>\n",
              "</table>\n",
              "</div>\n",
              "      <button class=\"colab-df-convert\" onclick=\"convertToInteractive('df-300807bd-e311-4efc-81fc-9c19e150e644')\"\n",
              "              title=\"Convert this dataframe to an interactive table.\"\n",
              "              style=\"display:none;\">\n",
              "        \n",
              "  <svg xmlns=\"http://www.w3.org/2000/svg\" height=\"24px\"viewBox=\"0 0 24 24\"\n",
              "       width=\"24px\">\n",
              "    <path d=\"M0 0h24v24H0V0z\" fill=\"none\"/>\n",
              "    <path d=\"M18.56 5.44l.94 2.06.94-2.06 2.06-.94-2.06-.94-.94-2.06-.94 2.06-2.06.94zm-11 1L8.5 8.5l.94-2.06 2.06-.94-2.06-.94L8.5 2.5l-.94 2.06-2.06.94zm10 10l.94 2.06.94-2.06 2.06-.94-2.06-.94-.94-2.06-.94 2.06-2.06.94z\"/><path d=\"M17.41 7.96l-1.37-1.37c-.4-.4-.92-.59-1.43-.59-.52 0-1.04.2-1.43.59L10.3 9.45l-7.72 7.72c-.78.78-.78 2.05 0 2.83L4 21.41c.39.39.9.59 1.41.59.51 0 1.02-.2 1.41-.59l7.78-7.78 2.81-2.81c.8-.78.8-2.07 0-2.86zM5.41 20L4 18.59l7.72-7.72 1.47 1.35L5.41 20z\"/>\n",
              "  </svg>\n",
              "      </button>\n",
              "      \n",
              "  <style>\n",
              "    .colab-df-container {\n",
              "      display:flex;\n",
              "      flex-wrap:wrap;\n",
              "      gap: 12px;\n",
              "    }\n",
              "\n",
              "    .colab-df-convert {\n",
              "      background-color: #E8F0FE;\n",
              "      border: none;\n",
              "      border-radius: 50%;\n",
              "      cursor: pointer;\n",
              "      display: none;\n",
              "      fill: #1967D2;\n",
              "      height: 32px;\n",
              "      padding: 0 0 0 0;\n",
              "      width: 32px;\n",
              "    }\n",
              "\n",
              "    .colab-df-convert:hover {\n",
              "      background-color: #E2EBFA;\n",
              "      box-shadow: 0px 1px 2px rgba(60, 64, 67, 0.3), 0px 1px 3px 1px rgba(60, 64, 67, 0.15);\n",
              "      fill: #174EA6;\n",
              "    }\n",
              "\n",
              "    [theme=dark] .colab-df-convert {\n",
              "      background-color: #3B4455;\n",
              "      fill: #D2E3FC;\n",
              "    }\n",
              "\n",
              "    [theme=dark] .colab-df-convert:hover {\n",
              "      background-color: #434B5C;\n",
              "      box-shadow: 0px 1px 3px 1px rgba(0, 0, 0, 0.15);\n",
              "      filter: drop-shadow(0px 1px 2px rgba(0, 0, 0, 0.3));\n",
              "      fill: #FFFFFF;\n",
              "    }\n",
              "  </style>\n",
              "\n",
              "      <script>\n",
              "        const buttonEl =\n",
              "          document.querySelector('#df-300807bd-e311-4efc-81fc-9c19e150e644 button.colab-df-convert');\n",
              "        buttonEl.style.display =\n",
              "          google.colab.kernel.accessAllowed ? 'block' : 'none';\n",
              "\n",
              "        async function convertToInteractive(key) {\n",
              "          const element = document.querySelector('#df-300807bd-e311-4efc-81fc-9c19e150e644');\n",
              "          const dataTable =\n",
              "            await google.colab.kernel.invokeFunction('convertToInteractive',\n",
              "                                                     [key], {});\n",
              "          if (!dataTable) return;\n",
              "\n",
              "          const docLinkHtml = 'Like what you see? Visit the ' +\n",
              "            '<a target=\"_blank\" href=https://colab.research.google.com/notebooks/data_table.ipynb>data table notebook</a>'\n",
              "            + ' to learn more about interactive tables.';\n",
              "          element.innerHTML = '';\n",
              "          dataTable['output_type'] = 'display_data';\n",
              "          await google.colab.output.renderOutput(dataTable, element);\n",
              "          const docLink = document.createElement('div');\n",
              "          docLink.innerHTML = docLinkHtml;\n",
              "          element.appendChild(docLink);\n",
              "        }\n",
              "      </script>\n",
              "    </div>\n",
              "  </div>\n",
              "  "
            ]
          },
          "metadata": {},
          "execution_count": 76
        }
      ]
    },
    {
      "cell_type": "code",
      "source": [
        "# df1 isinya dataset dengan label target SD\n",
        "df1 = df[df['Age'] == 'Young']\n",
        "\n",
        "# Menampilkan hasil filter\n",
        "print(df1)"
      ],
      "metadata": {
        "colab": {
          "base_uri": "https://localhost:8080/"
        },
        "id": "k-llqq-kktoi",
        "outputId": "97694925-b0f8-4d19-9045-611a1f3d12dd"
      },
      "execution_count": 77,
      "outputs": [
        {
          "output_type": "stream",
          "name": "stdout",
          "text": [
            "       Age  Gender OwnHome  Married Location  Salary  Children History  \\\n",
            "2    Young  Female    Rent   Single    Close   13500         0     Low   \n",
            "5    Young    Male     Own  Married    Close   30400         0     Low   \n",
            "10   Young    Male    Rent  Married    Close   43700         1     NaN   \n",
            "20   Young  Female    Rent   Single      Far   14300         2     Low   \n",
            "21   Young    Male    Rent  Married    Close   49800         0  Medium   \n",
            "..     ...     ...     ...      ...      ...     ...       ...     ...   \n",
            "974  Young    Male    Rent  Married    Close   45500         0  Medium   \n",
            "983  Young    Male    Rent  Married    Close   49300         0     NaN   \n",
            "994  Young    Male    Rent   Single    Close   17600         0     NaN   \n",
            "995  Young  Female    Rent   Single    Close   19400         1     NaN   \n",
            "999  Young    Male    Rent  Married    Close   53600         1  Medium   \n",
            "\n",
            "     Catalogs  AmountSpent  \n",
            "2          18        296.0  \n",
            "5           6        495.0  \n",
            "10         12        927.0  \n",
            "20          6        194.0  \n",
            "21         12        827.0  \n",
            "..        ...          ...  \n",
            "974         6        754.0  \n",
            "983        24       1692.0  \n",
            "994         6        273.0  \n",
            "995        18        384.0  \n",
            "999        24        973.0  \n",
            "\n",
            "[287 rows x 10 columns]\n"
          ]
        }
      ]
    },
    {
      "cell_type": "code",
      "source": [
        "# df2 isinya dataset dengan label target bukan SD\n",
        "df2 = df[df['OwnHome'] == 'Rent']\n",
        "\n",
        "# Menampilkan hasil filter\n",
        "print(df2)"
      ],
      "metadata": {
        "colab": {
          "base_uri": "https://localhost:8080/"
        },
        "id": "mDwM7Y8Op4Ix",
        "outputId": "f8030d64-d0bd-4de2-b63d-975aa5f0c50d"
      },
      "execution_count": 78,
      "outputs": [
        {
          "output_type": "stream",
          "name": "stdout",
          "text": [
            "        Age  Gender OwnHome  Married Location  Salary  Children History  \\\n",
            "1    Middle    Male    Rent   Single    Close   63600         0    High   \n",
            "2     Young  Female    Rent   Single    Close   13500         0     Low   \n",
            "6    Middle  Female    Rent   Single    Close   48100         0  Medium   \n",
            "10    Young    Male    Rent  Married    Close   43700         1     NaN   \n",
            "18   Middle    Male    Rent   Single    Close   38600         1     Low   \n",
            "..      ...     ...     ...      ...      ...     ...       ...     ...   \n",
            "991     Old  Female    Rent   Single      Far   11700         0     Low   \n",
            "994   Young    Male    Rent   Single    Close   17600         0     NaN   \n",
            "995   Young  Female    Rent   Single    Close   19400         1     NaN   \n",
            "996  Middle    Male    Rent   Single      Far   40500         1     NaN   \n",
            "999   Young    Male    Rent  Married    Close   53600         1  Medium   \n",
            "\n",
            "     Catalogs  AmountSpent  \n",
            "1           6       1318.0  \n",
            "2          18        296.0  \n",
            "6          12        782.0  \n",
            "10         12        927.0  \n",
            "18         18        542.0  \n",
            "..        ...          ...  \n",
            "991        18        540.0  \n",
            "994         6        273.0  \n",
            "995        18        384.0  \n",
            "996        18       1073.0  \n",
            "999        24        973.0  \n",
            "\n",
            "[484 rows x 10 columns]\n"
          ]
        }
      ]
    },
    {
      "cell_type": "markdown",
      "source": [
        "# Describe Data"
      ],
      "metadata": {
        "id": "rekzAKbzbv-N"
      }
    },
    {
      "cell_type": "code",
      "source": [
        "# df3 isinya dataset dengan label target Far\n",
        "df3 = df[df['Location'] == 'Far']\n",
        "\n",
        "# Menampilkan hasil filter\n",
        "print(df3)"
      ],
      "metadata": {
        "colab": {
          "base_uri": "https://localhost:8080/"
        },
        "id": "pl02Bx76bU4O",
        "outputId": "f29297f4-928c-4186-f5ec-eb7770048e69"
      },
      "execution_count": 79,
      "outputs": [
        {
          "output_type": "stream",
          "name": "stdout",
          "text": [
            "        Age  Gender OwnHome  Married Location  Salary  Children History  \\\n",
            "0       Old  Female     Own   Single      Far   47500         0    High   \n",
            "9       Old    Male     Own  Married      Far   80700         0     NaN   \n",
            "11   Middle    Male     Own  Married      Far  111800         3    High   \n",
            "14      Old  Female     Own  Married      Far  110000         0    High   \n",
            "15   Middle  Female     Own  Married      Far   83100         1     NaN   \n",
            "..      ...     ...     ...      ...      ...     ...       ...     ...   \n",
            "987     Old    Male     Own  Married      Far  112900         0    High   \n",
            "989  Middle    Male     Own  Married      Far  102700         1    High   \n",
            "991     Old  Female    Rent   Single      Far   11700         0     Low   \n",
            "993  Middle  Female     Own  Married      Far   99200         0    High   \n",
            "996  Middle    Male    Rent   Single      Far   40500         1     NaN   \n",
            "\n",
            "     Catalogs  AmountSpent  \n",
            "0           6        755.0  \n",
            "9          18       3034.0  \n",
            "11         18       2065.0  \n",
            "14         24       5564.0  \n",
            "15         12       2766.0  \n",
            "..        ...          ...  \n",
            "987        24       6217.0  \n",
            "989        18       3785.0  \n",
            "991        18        540.0  \n",
            "993        24       5503.0  \n",
            "996        18       1073.0  \n",
            "\n",
            "[290 rows x 10 columns]\n"
          ]
        }
      ]
    },
    {
      "cell_type": "code",
      "source": [
        "# df4 isinya dataset dengan label target selling_price di bawah 100\n",
        "df4 = df[df['Catalogs'] < 10]\n",
        "\n",
        "# Menampilkan hasil filter\n",
        "print(df4)"
      ],
      "metadata": {
        "colab": {
          "base_uri": "https://localhost:8080/"
        },
        "id": "Pa_z8MGjcxW5",
        "outputId": "9107b676-a877-469f-88d8-8e06864ecffa"
      },
      "execution_count": 80,
      "outputs": [
        {
          "output_type": "stream",
          "name": "stdout",
          "text": [
            "        Age  Gender OwnHome  Married Location  Salary  Children History  \\\n",
            "0       Old  Female     Own   Single      Far   47500         0    High   \n",
            "1    Middle    Male    Rent   Single    Close   63600         0    High   \n",
            "5     Young    Male     Own  Married    Close   30400         0     Low   \n",
            "8    Middle  Female     Own  Married    Close   51900         3     Low   \n",
            "20    Young  Female    Rent   Single      Far   14300         2     Low   \n",
            "..      ...     ...     ...      ...      ...     ...       ...     ...   \n",
            "978  Middle    Male     Own  Married      Far   93000         3    High   \n",
            "980     Old  Female     Own   Single    Close   33000         3     NaN   \n",
            "982  Middle  Female    Rent   Single    Close   33200         1     NaN   \n",
            "992  Middle    Male     Own  Married    Close  101700         1     NaN   \n",
            "994   Young    Male    Rent   Single    Close   17600         0     NaN   \n",
            "\n",
            "     Catalogs  AmountSpent  \n",
            "0           6        755.0  \n",
            "1           6       1318.0  \n",
            "5           6        495.0  \n",
            "8           6        158.0  \n",
            "20          6        194.0  \n",
            "..        ...          ...  \n",
            "978         6       1046.0  \n",
            "980         6        700.0  \n",
            "982         6        320.0  \n",
            "992         6        941.0  \n",
            "994         6        273.0  \n",
            "\n",
            "[252 rows x 10 columns]\n"
          ]
        }
      ]
    },
    {
      "cell_type": "code",
      "source": [
        "df.info()"
      ],
      "metadata": {
        "colab": {
          "base_uri": "https://localhost:8080/"
        },
        "id": "rEP5HzuKdg7b",
        "outputId": "5f89c17d-1846-4a79-91b7-a7e4914208d2"
      },
      "execution_count": 81,
      "outputs": [
        {
          "output_type": "stream",
          "name": "stdout",
          "text": [
            "<class 'pandas.core.frame.DataFrame'>\n",
            "RangeIndex: 1000 entries, 0 to 999\n",
            "Data columns (total 10 columns):\n",
            " #   Column       Non-Null Count  Dtype  \n",
            "---  ------       --------------  -----  \n",
            " 0   Age          1000 non-null   object \n",
            " 1   Gender       1000 non-null   object \n",
            " 2   OwnHome      1000 non-null   object \n",
            " 3   Married      1000 non-null   object \n",
            " 4   Location     1000 non-null   object \n",
            " 5   Salary       1000 non-null   int64  \n",
            " 6   Children     1000 non-null   int64  \n",
            " 7   History      697 non-null    object \n",
            " 8   Catalogs     1000 non-null   int64  \n",
            " 9   AmountSpent  994 non-null    float64\n",
            "dtypes: float64(1), int64(3), object(6)\n",
            "memory usage: 78.2+ KB\n"
          ]
        }
      ]
    },
    {
      "cell_type": "code",
      "source": [
        "df.select_dtypes(include=np.number)"
      ],
      "metadata": {
        "colab": {
          "base_uri": "https://localhost:8080/",
          "height": 424
        },
        "id": "dmLP8Vdzdt9W",
        "outputId": "a899dafe-9b5c-4968-b156-1bfb4ee21253"
      },
      "execution_count": 82,
      "outputs": [
        {
          "output_type": "execute_result",
          "data": {
            "text/plain": [
              "     Salary  Children  Catalogs  AmountSpent\n",
              "0     47500         0         6        755.0\n",
              "1     63600         0         6       1318.0\n",
              "2     13500         0        18        296.0\n",
              "3     85600         1        18       2436.0\n",
              "4     68400         0        12       1304.0\n",
              "..      ...       ...       ...          ...\n",
              "995   19400         1        18        384.0\n",
              "996   40500         1        18       1073.0\n",
              "997   44800         0        24       1417.0\n",
              "998   79000         2        18        671.0\n",
              "999   53600         1        24        973.0\n",
              "\n",
              "[1000 rows x 4 columns]"
            ],
            "text/html": [
              "\n",
              "  <div id=\"df-f04ea607-4b1a-4c81-90d1-f3031596455b\">\n",
              "    <div class=\"colab-df-container\">\n",
              "      <div>\n",
              "<style scoped>\n",
              "    .dataframe tbody tr th:only-of-type {\n",
              "        vertical-align: middle;\n",
              "    }\n",
              "\n",
              "    .dataframe tbody tr th {\n",
              "        vertical-align: top;\n",
              "    }\n",
              "\n",
              "    .dataframe thead th {\n",
              "        text-align: right;\n",
              "    }\n",
              "</style>\n",
              "<table border=\"1\" class=\"dataframe\">\n",
              "  <thead>\n",
              "    <tr style=\"text-align: right;\">\n",
              "      <th></th>\n",
              "      <th>Salary</th>\n",
              "      <th>Children</th>\n",
              "      <th>Catalogs</th>\n",
              "      <th>AmountSpent</th>\n",
              "    </tr>\n",
              "  </thead>\n",
              "  <tbody>\n",
              "    <tr>\n",
              "      <th>0</th>\n",
              "      <td>47500</td>\n",
              "      <td>0</td>\n",
              "      <td>6</td>\n",
              "      <td>755.0</td>\n",
              "    </tr>\n",
              "    <tr>\n",
              "      <th>1</th>\n",
              "      <td>63600</td>\n",
              "      <td>0</td>\n",
              "      <td>6</td>\n",
              "      <td>1318.0</td>\n",
              "    </tr>\n",
              "    <tr>\n",
              "      <th>2</th>\n",
              "      <td>13500</td>\n",
              "      <td>0</td>\n",
              "      <td>18</td>\n",
              "      <td>296.0</td>\n",
              "    </tr>\n",
              "    <tr>\n",
              "      <th>3</th>\n",
              "      <td>85600</td>\n",
              "      <td>1</td>\n",
              "      <td>18</td>\n",
              "      <td>2436.0</td>\n",
              "    </tr>\n",
              "    <tr>\n",
              "      <th>4</th>\n",
              "      <td>68400</td>\n",
              "      <td>0</td>\n",
              "      <td>12</td>\n",
              "      <td>1304.0</td>\n",
              "    </tr>\n",
              "    <tr>\n",
              "      <th>...</th>\n",
              "      <td>...</td>\n",
              "      <td>...</td>\n",
              "      <td>...</td>\n",
              "      <td>...</td>\n",
              "    </tr>\n",
              "    <tr>\n",
              "      <th>995</th>\n",
              "      <td>19400</td>\n",
              "      <td>1</td>\n",
              "      <td>18</td>\n",
              "      <td>384.0</td>\n",
              "    </tr>\n",
              "    <tr>\n",
              "      <th>996</th>\n",
              "      <td>40500</td>\n",
              "      <td>1</td>\n",
              "      <td>18</td>\n",
              "      <td>1073.0</td>\n",
              "    </tr>\n",
              "    <tr>\n",
              "      <th>997</th>\n",
              "      <td>44800</td>\n",
              "      <td>0</td>\n",
              "      <td>24</td>\n",
              "      <td>1417.0</td>\n",
              "    </tr>\n",
              "    <tr>\n",
              "      <th>998</th>\n",
              "      <td>79000</td>\n",
              "      <td>2</td>\n",
              "      <td>18</td>\n",
              "      <td>671.0</td>\n",
              "    </tr>\n",
              "    <tr>\n",
              "      <th>999</th>\n",
              "      <td>53600</td>\n",
              "      <td>1</td>\n",
              "      <td>24</td>\n",
              "      <td>973.0</td>\n",
              "    </tr>\n",
              "  </tbody>\n",
              "</table>\n",
              "<p>1000 rows × 4 columns</p>\n",
              "</div>\n",
              "      <button class=\"colab-df-convert\" onclick=\"convertToInteractive('df-f04ea607-4b1a-4c81-90d1-f3031596455b')\"\n",
              "              title=\"Convert this dataframe to an interactive table.\"\n",
              "              style=\"display:none;\">\n",
              "        \n",
              "  <svg xmlns=\"http://www.w3.org/2000/svg\" height=\"24px\"viewBox=\"0 0 24 24\"\n",
              "       width=\"24px\">\n",
              "    <path d=\"M0 0h24v24H0V0z\" fill=\"none\"/>\n",
              "    <path d=\"M18.56 5.44l.94 2.06.94-2.06 2.06-.94-2.06-.94-.94-2.06-.94 2.06-2.06.94zm-11 1L8.5 8.5l.94-2.06 2.06-.94-2.06-.94L8.5 2.5l-.94 2.06-2.06.94zm10 10l.94 2.06.94-2.06 2.06-.94-2.06-.94-.94-2.06-.94 2.06-2.06.94z\"/><path d=\"M17.41 7.96l-1.37-1.37c-.4-.4-.92-.59-1.43-.59-.52 0-1.04.2-1.43.59L10.3 9.45l-7.72 7.72c-.78.78-.78 2.05 0 2.83L4 21.41c.39.39.9.59 1.41.59.51 0 1.02-.2 1.41-.59l7.78-7.78 2.81-2.81c.8-.78.8-2.07 0-2.86zM5.41 20L4 18.59l7.72-7.72 1.47 1.35L5.41 20z\"/>\n",
              "  </svg>\n",
              "      </button>\n",
              "      \n",
              "  <style>\n",
              "    .colab-df-container {\n",
              "      display:flex;\n",
              "      flex-wrap:wrap;\n",
              "      gap: 12px;\n",
              "    }\n",
              "\n",
              "    .colab-df-convert {\n",
              "      background-color: #E8F0FE;\n",
              "      border: none;\n",
              "      border-radius: 50%;\n",
              "      cursor: pointer;\n",
              "      display: none;\n",
              "      fill: #1967D2;\n",
              "      height: 32px;\n",
              "      padding: 0 0 0 0;\n",
              "      width: 32px;\n",
              "    }\n",
              "\n",
              "    .colab-df-convert:hover {\n",
              "      background-color: #E2EBFA;\n",
              "      box-shadow: 0px 1px 2px rgba(60, 64, 67, 0.3), 0px 1px 3px 1px rgba(60, 64, 67, 0.15);\n",
              "      fill: #174EA6;\n",
              "    }\n",
              "\n",
              "    [theme=dark] .colab-df-convert {\n",
              "      background-color: #3B4455;\n",
              "      fill: #D2E3FC;\n",
              "    }\n",
              "\n",
              "    [theme=dark] .colab-df-convert:hover {\n",
              "      background-color: #434B5C;\n",
              "      box-shadow: 0px 1px 3px 1px rgba(0, 0, 0, 0.15);\n",
              "      filter: drop-shadow(0px 1px 2px rgba(0, 0, 0, 0.3));\n",
              "      fill: #FFFFFF;\n",
              "    }\n",
              "  </style>\n",
              "\n",
              "      <script>\n",
              "        const buttonEl =\n",
              "          document.querySelector('#df-f04ea607-4b1a-4c81-90d1-f3031596455b button.colab-df-convert');\n",
              "        buttonEl.style.display =\n",
              "          google.colab.kernel.accessAllowed ? 'block' : 'none';\n",
              "\n",
              "        async function convertToInteractive(key) {\n",
              "          const element = document.querySelector('#df-f04ea607-4b1a-4c81-90d1-f3031596455b');\n",
              "          const dataTable =\n",
              "            await google.colab.kernel.invokeFunction('convertToInteractive',\n",
              "                                                     [key], {});\n",
              "          if (!dataTable) return;\n",
              "\n",
              "          const docLinkHtml = 'Like what you see? Visit the ' +\n",
              "            '<a target=\"_blank\" href=https://colab.research.google.com/notebooks/data_table.ipynb>data table notebook</a>'\n",
              "            + ' to learn more about interactive tables.';\n",
              "          element.innerHTML = '';\n",
              "          dataTable['output_type'] = 'display_data';\n",
              "          await google.colab.output.renderOutput(dataTable, element);\n",
              "          const docLink = document.createElement('div');\n",
              "          docLink.innerHTML = docLinkHtml;\n",
              "          element.appendChild(docLink);\n",
              "        }\n",
              "      </script>\n",
              "    </div>\n",
              "  </div>\n",
              "  "
            ]
          },
          "metadata": {},
          "execution_count": 82
        }
      ]
    },
    {
      "cell_type": "code",
      "source": [
        "def tampil(kolom):\n",
        "  dfnum = df[kolom]\n",
        "\n",
        "  print(\"Nilai minimum         :\", dfnum.min())\n",
        "  print(\"Nilai maksimum        :\", dfnum.max())"
      ],
      "metadata": {
        "id": "OZr3rR2Od1xA"
      },
      "execution_count": null,
      "outputs": []
    },
    {
      "cell_type": "code",
      "source": [
        "tampil(\"Salary\")"
      ],
      "metadata": {
        "colab": {
          "base_uri": "https://localhost:8080/"
        },
        "id": "a3BROrqmd30h",
        "outputId": "ebd7d3ff-3589-4e96-eeb6-9dc41271d9a6"
      },
      "execution_count": 83,
      "outputs": [
        {
          "output_type": "stream",
          "name": "stdout",
          "text": [
            "Nilai minimum         : 0\n",
            "Nilai maksimum        : 168800\n"
          ]
        }
      ]
    },
    {
      "cell_type": "code",
      "source": [
        "tampil(\"Children\")"
      ],
      "metadata": {
        "colab": {
          "base_uri": "https://localhost:8080/"
        },
        "id": "DMZx0pTqeOuU",
        "outputId": "f2972b69-de06-43c0-a9a4-29b119a4adf8"
      },
      "execution_count": 84,
      "outputs": [
        {
          "output_type": "stream",
          "name": "stdout",
          "text": [
            "Nilai minimum         : 0\n",
            "Nilai maksimum        : 3\n"
          ]
        }
      ]
    },
    {
      "cell_type": "code",
      "source": [
        "tampil(\"Catalogs\")"
      ],
      "metadata": {
        "colab": {
          "base_uri": "https://localhost:8080/"
        },
        "id": "XY9Jjk8YejX8",
        "outputId": "6e23cc51-683a-42d4-d35f-d0ba69be4f0e"
      },
      "execution_count": 85,
      "outputs": [
        {
          "output_type": "stream",
          "name": "stdout",
          "text": [
            "Nilai minimum         : 6\n",
            "Nilai maksimum        : 24\n"
          ]
        }
      ]
    },
    {
      "cell_type": "markdown",
      "source": [
        "# Explore Data"
      ],
      "metadata": {
        "id": "NJNUNz7Ke0Vz"
      }
    },
    {
      "cell_type": "markdown",
      "source": [
        "# Visualisasi Comparison"
      ],
      "metadata": {
        "id": "-RxuBueefKgf"
      }
    },
    {
      "cell_type": "code",
      "source": [
        "import numpy as np # linear algebra\n",
        "import pandas as pd # data processing, CSV file I/O (e.g. pd.read_csv)\n",
        "import matplotlib.pyplot as plt\n",
        "import seaborn as sns\n",
        "from collections import Counter\n",
        "%matplotlib inline"
      ],
      "metadata": {
        "id": "V3nGp9dffYqF"
      },
      "execution_count": null,
      "outputs": []
    },
    {
      "cell_type": "code",
      "source": [
        "df"
      ],
      "metadata": {
        "colab": {
          "base_uri": "https://localhost:8080/",
          "height": 424
        },
        "id": "qGWp8DJNfbBG",
        "outputId": "569e5e87-4283-4628-fcb0-9a1db3f740a9"
      },
      "execution_count": 86,
      "outputs": [
        {
          "output_type": "execute_result",
          "data": {
            "text/plain": [
              "        Age  Gender OwnHome  Married Location  Salary  Children History  \\\n",
              "0       Old  Female     Own   Single      Far   47500         0    High   \n",
              "1    Middle    Male    Rent   Single    Close   63600         0    High   \n",
              "2     Young  Female    Rent   Single    Close   13500         0     Low   \n",
              "3    Middle    Male     Own  Married    Close   85600         1    High   \n",
              "4    Middle  Female     Own   Single    Close   68400         0    High   \n",
              "..      ...     ...     ...      ...      ...     ...       ...     ...   \n",
              "995   Young  Female    Rent   Single    Close   19400         1     NaN   \n",
              "996  Middle    Male    Rent   Single      Far   40500         1     NaN   \n",
              "997     Old    Male     Own   Single    Close   44800         0  Medium   \n",
              "998  Middle    Male     Own  Married    Close   79000         2  Medium   \n",
              "999   Young    Male    Rent  Married    Close   53600         1  Medium   \n",
              "\n",
              "     Catalogs  AmountSpent  \n",
              "0           6        755.0  \n",
              "1           6       1318.0  \n",
              "2          18        296.0  \n",
              "3          18       2436.0  \n",
              "4          12       1304.0  \n",
              "..        ...          ...  \n",
              "995        18        384.0  \n",
              "996        18       1073.0  \n",
              "997        24       1417.0  \n",
              "998        18        671.0  \n",
              "999        24        973.0  \n",
              "\n",
              "[1000 rows x 10 columns]"
            ],
            "text/html": [
              "\n",
              "  <div id=\"df-12f233ef-2377-4671-b18c-b2f662febff6\">\n",
              "    <div class=\"colab-df-container\">\n",
              "      <div>\n",
              "<style scoped>\n",
              "    .dataframe tbody tr th:only-of-type {\n",
              "        vertical-align: middle;\n",
              "    }\n",
              "\n",
              "    .dataframe tbody tr th {\n",
              "        vertical-align: top;\n",
              "    }\n",
              "\n",
              "    .dataframe thead th {\n",
              "        text-align: right;\n",
              "    }\n",
              "</style>\n",
              "<table border=\"1\" class=\"dataframe\">\n",
              "  <thead>\n",
              "    <tr style=\"text-align: right;\">\n",
              "      <th></th>\n",
              "      <th>Age</th>\n",
              "      <th>Gender</th>\n",
              "      <th>OwnHome</th>\n",
              "      <th>Married</th>\n",
              "      <th>Location</th>\n",
              "      <th>Salary</th>\n",
              "      <th>Children</th>\n",
              "      <th>History</th>\n",
              "      <th>Catalogs</th>\n",
              "      <th>AmountSpent</th>\n",
              "    </tr>\n",
              "  </thead>\n",
              "  <tbody>\n",
              "    <tr>\n",
              "      <th>0</th>\n",
              "      <td>Old</td>\n",
              "      <td>Female</td>\n",
              "      <td>Own</td>\n",
              "      <td>Single</td>\n",
              "      <td>Far</td>\n",
              "      <td>47500</td>\n",
              "      <td>0</td>\n",
              "      <td>High</td>\n",
              "      <td>6</td>\n",
              "      <td>755.0</td>\n",
              "    </tr>\n",
              "    <tr>\n",
              "      <th>1</th>\n",
              "      <td>Middle</td>\n",
              "      <td>Male</td>\n",
              "      <td>Rent</td>\n",
              "      <td>Single</td>\n",
              "      <td>Close</td>\n",
              "      <td>63600</td>\n",
              "      <td>0</td>\n",
              "      <td>High</td>\n",
              "      <td>6</td>\n",
              "      <td>1318.0</td>\n",
              "    </tr>\n",
              "    <tr>\n",
              "      <th>2</th>\n",
              "      <td>Young</td>\n",
              "      <td>Female</td>\n",
              "      <td>Rent</td>\n",
              "      <td>Single</td>\n",
              "      <td>Close</td>\n",
              "      <td>13500</td>\n",
              "      <td>0</td>\n",
              "      <td>Low</td>\n",
              "      <td>18</td>\n",
              "      <td>296.0</td>\n",
              "    </tr>\n",
              "    <tr>\n",
              "      <th>3</th>\n",
              "      <td>Middle</td>\n",
              "      <td>Male</td>\n",
              "      <td>Own</td>\n",
              "      <td>Married</td>\n",
              "      <td>Close</td>\n",
              "      <td>85600</td>\n",
              "      <td>1</td>\n",
              "      <td>High</td>\n",
              "      <td>18</td>\n",
              "      <td>2436.0</td>\n",
              "    </tr>\n",
              "    <tr>\n",
              "      <th>4</th>\n",
              "      <td>Middle</td>\n",
              "      <td>Female</td>\n",
              "      <td>Own</td>\n",
              "      <td>Single</td>\n",
              "      <td>Close</td>\n",
              "      <td>68400</td>\n",
              "      <td>0</td>\n",
              "      <td>High</td>\n",
              "      <td>12</td>\n",
              "      <td>1304.0</td>\n",
              "    </tr>\n",
              "    <tr>\n",
              "      <th>...</th>\n",
              "      <td>...</td>\n",
              "      <td>...</td>\n",
              "      <td>...</td>\n",
              "      <td>...</td>\n",
              "      <td>...</td>\n",
              "      <td>...</td>\n",
              "      <td>...</td>\n",
              "      <td>...</td>\n",
              "      <td>...</td>\n",
              "      <td>...</td>\n",
              "    </tr>\n",
              "    <tr>\n",
              "      <th>995</th>\n",
              "      <td>Young</td>\n",
              "      <td>Female</td>\n",
              "      <td>Rent</td>\n",
              "      <td>Single</td>\n",
              "      <td>Close</td>\n",
              "      <td>19400</td>\n",
              "      <td>1</td>\n",
              "      <td>NaN</td>\n",
              "      <td>18</td>\n",
              "      <td>384.0</td>\n",
              "    </tr>\n",
              "    <tr>\n",
              "      <th>996</th>\n",
              "      <td>Middle</td>\n",
              "      <td>Male</td>\n",
              "      <td>Rent</td>\n",
              "      <td>Single</td>\n",
              "      <td>Far</td>\n",
              "      <td>40500</td>\n",
              "      <td>1</td>\n",
              "      <td>NaN</td>\n",
              "      <td>18</td>\n",
              "      <td>1073.0</td>\n",
              "    </tr>\n",
              "    <tr>\n",
              "      <th>997</th>\n",
              "      <td>Old</td>\n",
              "      <td>Male</td>\n",
              "      <td>Own</td>\n",
              "      <td>Single</td>\n",
              "      <td>Close</td>\n",
              "      <td>44800</td>\n",
              "      <td>0</td>\n",
              "      <td>Medium</td>\n",
              "      <td>24</td>\n",
              "      <td>1417.0</td>\n",
              "    </tr>\n",
              "    <tr>\n",
              "      <th>998</th>\n",
              "      <td>Middle</td>\n",
              "      <td>Male</td>\n",
              "      <td>Own</td>\n",
              "      <td>Married</td>\n",
              "      <td>Close</td>\n",
              "      <td>79000</td>\n",
              "      <td>2</td>\n",
              "      <td>Medium</td>\n",
              "      <td>18</td>\n",
              "      <td>671.0</td>\n",
              "    </tr>\n",
              "    <tr>\n",
              "      <th>999</th>\n",
              "      <td>Young</td>\n",
              "      <td>Male</td>\n",
              "      <td>Rent</td>\n",
              "      <td>Married</td>\n",
              "      <td>Close</td>\n",
              "      <td>53600</td>\n",
              "      <td>1</td>\n",
              "      <td>Medium</td>\n",
              "      <td>24</td>\n",
              "      <td>973.0</td>\n",
              "    </tr>\n",
              "  </tbody>\n",
              "</table>\n",
              "<p>1000 rows × 10 columns</p>\n",
              "</div>\n",
              "      <button class=\"colab-df-convert\" onclick=\"convertToInteractive('df-12f233ef-2377-4671-b18c-b2f662febff6')\"\n",
              "              title=\"Convert this dataframe to an interactive table.\"\n",
              "              style=\"display:none;\">\n",
              "        \n",
              "  <svg xmlns=\"http://www.w3.org/2000/svg\" height=\"24px\"viewBox=\"0 0 24 24\"\n",
              "       width=\"24px\">\n",
              "    <path d=\"M0 0h24v24H0V0z\" fill=\"none\"/>\n",
              "    <path d=\"M18.56 5.44l.94 2.06.94-2.06 2.06-.94-2.06-.94-.94-2.06-.94 2.06-2.06.94zm-11 1L8.5 8.5l.94-2.06 2.06-.94-2.06-.94L8.5 2.5l-.94 2.06-2.06.94zm10 10l.94 2.06.94-2.06 2.06-.94-2.06-.94-.94-2.06-.94 2.06-2.06.94z\"/><path d=\"M17.41 7.96l-1.37-1.37c-.4-.4-.92-.59-1.43-.59-.52 0-1.04.2-1.43.59L10.3 9.45l-7.72 7.72c-.78.78-.78 2.05 0 2.83L4 21.41c.39.39.9.59 1.41.59.51 0 1.02-.2 1.41-.59l7.78-7.78 2.81-2.81c.8-.78.8-2.07 0-2.86zM5.41 20L4 18.59l7.72-7.72 1.47 1.35L5.41 20z\"/>\n",
              "  </svg>\n",
              "      </button>\n",
              "      \n",
              "  <style>\n",
              "    .colab-df-container {\n",
              "      display:flex;\n",
              "      flex-wrap:wrap;\n",
              "      gap: 12px;\n",
              "    }\n",
              "\n",
              "    .colab-df-convert {\n",
              "      background-color: #E8F0FE;\n",
              "      border: none;\n",
              "      border-radius: 50%;\n",
              "      cursor: pointer;\n",
              "      display: none;\n",
              "      fill: #1967D2;\n",
              "      height: 32px;\n",
              "      padding: 0 0 0 0;\n",
              "      width: 32px;\n",
              "    }\n",
              "\n",
              "    .colab-df-convert:hover {\n",
              "      background-color: #E2EBFA;\n",
              "      box-shadow: 0px 1px 2px rgba(60, 64, 67, 0.3), 0px 1px 3px 1px rgba(60, 64, 67, 0.15);\n",
              "      fill: #174EA6;\n",
              "    }\n",
              "\n",
              "    [theme=dark] .colab-df-convert {\n",
              "      background-color: #3B4455;\n",
              "      fill: #D2E3FC;\n",
              "    }\n",
              "\n",
              "    [theme=dark] .colab-df-convert:hover {\n",
              "      background-color: #434B5C;\n",
              "      box-shadow: 0px 1px 3px 1px rgba(0, 0, 0, 0.15);\n",
              "      filter: drop-shadow(0px 1px 2px rgba(0, 0, 0, 0.3));\n",
              "      fill: #FFFFFF;\n",
              "    }\n",
              "  </style>\n",
              "\n",
              "      <script>\n",
              "        const buttonEl =\n",
              "          document.querySelector('#df-12f233ef-2377-4671-b18c-b2f662febff6 button.colab-df-convert');\n",
              "        buttonEl.style.display =\n",
              "          google.colab.kernel.accessAllowed ? 'block' : 'none';\n",
              "\n",
              "        async function convertToInteractive(key) {\n",
              "          const element = document.querySelector('#df-12f233ef-2377-4671-b18c-b2f662febff6');\n",
              "          const dataTable =\n",
              "            await google.colab.kernel.invokeFunction('convertToInteractive',\n",
              "                                                     [key], {});\n",
              "          if (!dataTable) return;\n",
              "\n",
              "          const docLinkHtml = 'Like what you see? Visit the ' +\n",
              "            '<a target=\"_blank\" href=https://colab.research.google.com/notebooks/data_table.ipynb>data table notebook</a>'\n",
              "            + ' to learn more about interactive tables.';\n",
              "          element.innerHTML = '';\n",
              "          dataTable['output_type'] = 'display_data';\n",
              "          await google.colab.output.renderOutput(dataTable, element);\n",
              "          const docLink = document.createElement('div');\n",
              "          docLink.innerHTML = docLinkHtml;\n",
              "          element.appendChild(docLink);\n",
              "        }\n",
              "      </script>\n",
              "    </div>\n",
              "  </div>\n",
              "  "
            ]
          },
          "metadata": {},
          "execution_count": 86
        }
      ]
    },
    {
      "cell_type": "code",
      "source": [
        "country_count = Counter(df['Gender'].dropna().tolist()).most_common(10)\n",
        "country_idx = [country[0] for country in country_count]\n",
        "country_val = [country[1] for country in country_count]\n",
        "fig,ax = plt.subplots(figsize=(8,6))\n",
        "sns.barplot(x = country_idx,y=country_val ,ax =ax)\n",
        "plt.title('Age')\n",
        "plt.xlabel('Gender')\n",
        "plt.ylabel('frekuensi')\n",
        "ticks = plt.setp(ax.get_xticklabels(),rotation=90)"
      ],
      "metadata": {
        "colab": {
          "base_uri": "https://localhost:8080/",
          "height": 613
        },
        "id": "6flXoirNfrHS",
        "outputId": "a017dc5b-4980-471d-aab0-9b673057ed96"
      },
      "execution_count": 87,
      "outputs": [
        {
          "output_type": "display_data",
          "data": {
            "text/plain": [
              "<Figure size 800x600 with 1 Axes>"
            ],
            "image/png": "[encoded data removed]"
          },
          "metadata": {}
        }
      ]
    },
    {
      "cell_type": "code",
      "source": [
        "fig, ax = plt.subplots(figsize = (14, 6))\n",
        "max_width = 13\n",
        "\n",
        "index = df['Location'].fillna('NaN').value_counts().index[0:4]\n",
        "count = df['Location'].fillna('NaN').value_counts()[0:4]\n",
        "sns.barplot(x = index, y = count, order = index)\n",
        "ax.set_title('Data Keseluruhan Location dari Close', fontsize = 18)\n",
        "ax.set_xticklabels((textwrap.fill(x, max_width) for x in index), fontsize = 10)\n",
        "for i, count in enumerate(count):\n",
        "    ax.text(x=i-0.1 , y =count+0 , s=f\"{count}\" , fontdict=dict(fontsize=10))\n",
        "ax.set_ylabel('frekuensi', fontsize = 14)\n",
        "ax.set_ylim(0, df['Location'].fillna('NaN').value_counts()[0]+10)\n",
        "\n",
        "plt.show()"
      ],
      "metadata": {
        "colab": {
          "base_uri": "https://localhost:8080/",
          "height": 553
        },
        "id": "nAfqnW-ehmpl",
        "outputId": "23bfdbe6-10d5-49c9-932b-30c4626da5e3"
      },
      "execution_count": 89,
      "outputs": [
        {
          "output_type": "display_data",
          "data": {
            "text/plain": [
              "<Figure size 1400x600 with 1 Axes>"
            ],
            "image/png": "[encoded data removed]"
          },
          "metadata": {}
        }
      ]
    },
    {
      "cell_type": "markdown",
      "source": [
        "# Visualisai Distribution"
      ],
      "metadata": {
        "id": "jpJb5xycjI3r"
      }
    },
    {
      "cell_type": "code",
      "source": [
        "# Mendefinisikan Kolom pada list dari dataset\n",
        "num_cols = ['Catalogs', 'AmountSpent']\n",
        "\n",
        "\n",
        "# Membuat diagram\n",
        "fig, ax = plt.subplots(2, figsize=(14, 14))\n",
        "fig.tight_layout(pad=2)\n",
        "\n",
        "for ax, col in zip(ax.flatten(), num_cols):\n",
        "    sns.histplot(ax=ax, data=df, x=col, kde=True, stat='density')\n",
        "    ax.set_title(col, fontsize=18)\n",
        "    ax.annotate(f\"Skewness: {df[col].skew():.2f}\", xy=(0.7, 0.9), xycoords='axes fraction')\n",
        "\n",
        "plt.show()"
      ],
      "metadata": {
        "colab": {
          "base_uri": "https://localhost:8080/",
          "height": 1000
        },
        "id": "rRBe3l58jcLH",
        "outputId": "c3501247-8790-4d52-d349-1e12695db27f"
      },
      "execution_count": 92,
      "outputs": [
        {
          "output_type": "display_data",
          "data": {
            "text/plain": [
              "<Figure size 1400x1400 with 2 Axes>"
            ],
            "image/png": "[encoded data removed]"
          },
          "metadata": {}
        }
      ]
    },
    {
      "cell_type": "code",
      "source": [
        "num_cols = ['AmountSpent', 'Catalogs']\n",
        "\n",
        "fig, ax = plt.subplots(len(num_cols), 1, figsize = (14, 14))\n",
        "fig.tight_layout(pad = 8)\n",
        "\n",
        "for i, col in enumerate(num_cols):\n",
        "    sns.boxplot(ax = ax[i], x = df[col], orient = 'h', color = 'aqua')\n",
        "    ax[i].set_title(col, fontsize = 18)\n",
        "\n",
        "plt.show()"
      ],
      "metadata": {
        "colab": {
          "base_uri": "https://localhost:8080/",
          "height": 1000
        },
        "id": "stKHYJnLkMKh",
        "outputId": "d1e27ce3-6c23-434d-c1bc-c6d76544db2c"
      },
      "execution_count": 93,
      "outputs": [
        {
          "output_type": "display_data",
          "data": {
            "text/plain": [
              "<Figure size 1400x1400 with 2 Axes>"
            ],
            "image/png": "[encoded data removed]"
          },
          "metadata": {}
        }
      ]
    },
    {
      "cell_type": "markdown",
      "source": [
        "# Visualisai Relationship"
      ],
      "metadata": {
        "id": "AplG0tzekkgF"
      }
    },
    {
      "cell_type": "code",
      "source": [
        "fig, ax = plt.subplots(figsize=(12, 8))\n",
        "sns.scatterplot(data=df, x=\"Age\", y=\"Gender\")\n",
        "ax.set_title('usia yang berdasarkan jenis kelamin', fontsize=18)\n",
        "ax.set_xlabel('Age', fontsize=14)\n",
        "ax.set_ylabel('Gender', fontsize=14)\n",
        "plt.xticks(fontsize=12)\n",
        "plt.yticks(fontsize=12)\n",
        "plt.show()"
      ],
      "metadata": {
        "colab": {
          "base_uri": "https://localhost:8080/",
          "height": 736
        },
        "id": "SxOy1Rgdkp-U",
        "outputId": "df69f181-98d1-4449-fe02-49dd79988dd6"
      },
      "execution_count": 99,
      "outputs": [
        {
          "output_type": "display_data",
          "data": {
            "text/plain": [
              "<Figure size 1200x800 with 1 Axes>"
            ],
            "image/png": "[encoded data removed]"
          },
          "metadata": {}
        }
      ]
    },
    {
      "cell_type": "code",
      "source": [
        "df"
      ],
      "metadata": {
        "colab": {
          "base_uri": "https://localhost:8080/",
          "height": 424
        },
        "id": "rxQbOrBCPS_s",
        "outputId": "5d70840a-7b58-4f21-c4a5-ce89f7534ed7"
      },
      "execution_count": 94,
      "outputs": [
        {
          "output_type": "execute_result",
          "data": {
            "text/plain": [
              "        Age  Gender OwnHome  Married Location  Salary  Children History  \\\n",
              "0       Old  Female     Own   Single      Far   47500         0    High   \n",
              "1    Middle    Male    Rent   Single    Close   63600         0    High   \n",
              "2     Young  Female    Rent   Single    Close   13500         0     Low   \n",
              "3    Middle    Male     Own  Married    Close   85600         1    High   \n",
              "4    Middle  Female     Own   Single    Close   68400         0    High   \n",
              "..      ...     ...     ...      ...      ...     ...       ...     ...   \n",
              "995   Young  Female    Rent   Single    Close   19400         1     NaN   \n",
              "996  Middle    Male    Rent   Single      Far   40500         1     NaN   \n",
              "997     Old    Male     Own   Single    Close   44800         0  Medium   \n",
              "998  Middle    Male     Own  Married    Close   79000         2  Medium   \n",
              "999   Young    Male    Rent  Married    Close   53600         1  Medium   \n",
              "\n",
              "     Catalogs  AmountSpent  \n",
              "0           6        755.0  \n",
              "1           6       1318.0  \n",
              "2          18        296.0  \n",
              "3          18       2436.0  \n",
              "4          12       1304.0  \n",
              "..        ...          ...  \n",
              "995        18        384.0  \n",
              "996        18       1073.0  \n",
              "997        24       1417.0  \n",
              "998        18        671.0  \n",
              "999        24        973.0  \n",
              "\n",
              "[1000 rows x 10 columns]"
            ],
            "text/html": [
              "\n",
              "  <div id=\"df-d9ef51d5-9288-4cd0-8c94-bfe7634718cb\">\n",
              "    <div class=\"colab-df-container\">\n",
              "      <div>\n",
              "<style scoped>\n",
              "    .dataframe tbody tr th:only-of-type {\n",
              "        vertical-align: middle;\n",
              "    }\n",
              "\n",
              "    .dataframe tbody tr th {\n",
              "        vertical-align: top;\n",
              "    }\n",
              "\n",
              "    .dataframe thead th {\n",
              "        text-align: right;\n",
              "    }\n",
              "</style>\n",
              "<table border=\"1\" class=\"dataframe\">\n",
              "  <thead>\n",
              "    <tr style=\"text-align: right;\">\n",
              "      <th></th>\n",
              "      <th>Age</th>\n",
              "      <th>Gender</th>\n",
              "      <th>OwnHome</th>\n",
              "      <th>Married</th>\n",
              "      <th>Location</th>\n",
              "      <th>Salary</th>\n",
              "      <th>Children</th>\n",
              "      <th>History</th>\n",
              "      <th>Catalogs</th>\n",
              "      <th>AmountSpent</th>\n",
              "    </tr>\n",
              "  </thead>\n",
              "  <tbody>\n",
              "    <tr>\n",
              "      <th>0</th>\n",
              "      <td>Old</td>\n",
              "      <td>Female</td>\n",
              "      <td>Own</td>\n",
              "      <td>Single</td>\n",
              "      <td>Far</td>\n",
              "      <td>47500</td>\n",
              "      <td>0</td>\n",
              "      <td>High</td>\n",
              "      <td>6</td>\n",
              "      <td>755.0</td>\n",
              "    </tr>\n",
              "    <tr>\n",
              "      <th>1</th>\n",
              "      <td>Middle</td>\n",
              "      <td>Male</td>\n",
              "      <td>Rent</td>\n",
              "      <td>Single</td>\n",
              "      <td>Close</td>\n",
              "      <td>63600</td>\n",
              "      <td>0</td>\n",
              "      <td>High</td>\n",
              "      <td>6</td>\n",
              "      <td>1318.0</td>\n",
              "    </tr>\n",
              "    <tr>\n",
              "      <th>2</th>\n",
              "      <td>Young</td>\n",
              "      <td>Female</td>\n",
              "      <td>Rent</td>\n",
              "      <td>Single</td>\n",
              "      <td>Close</td>\n",
              "      <td>13500</td>\n",
              "      <td>0</td>\n",
              "      <td>Low</td>\n",
              "      <td>18</td>\n",
              "      <td>296.0</td>\n",
              "    </tr>\n",
              "    <tr>\n",
              "      <th>3</th>\n",
              "      <td>Middle</td>\n",
              "      <td>Male</td>\n",
              "      <td>Own</td>\n",
              "      <td>Married</td>\n",
              "      <td>Close</td>\n",
              "      <td>85600</td>\n",
              "      <td>1</td>\n",
              "      <td>High</td>\n",
              "      <td>18</td>\n",
              "      <td>2436.0</td>\n",
              "    </tr>\n",
              "    <tr>\n",
              "      <th>4</th>\n",
              "      <td>Middle</td>\n",
              "      <td>Female</td>\n",
              "      <td>Own</td>\n",
              "      <td>Single</td>\n",
              "      <td>Close</td>\n",
              "      <td>68400</td>\n",
              "      <td>0</td>\n",
              "      <td>High</td>\n",
              "      <td>12</td>\n",
              "      <td>1304.0</td>\n",
              "    </tr>\n",
              "    <tr>\n",
              "      <th>...</th>\n",
              "      <td>...</td>\n",
              "      <td>...</td>\n",
              "      <td>...</td>\n",
              "      <td>...</td>\n",
              "      <td>...</td>\n",
              "      <td>...</td>\n",
              "      <td>...</td>\n",
              "      <td>...</td>\n",
              "      <td>...</td>\n",
              "      <td>...</td>\n",
              "    </tr>\n",
              "    <tr>\n",
              "      <th>995</th>\n",
              "      <td>Young</td>\n",
              "      <td>Female</td>\n",
              "      <td>Rent</td>\n",
              "      <td>Single</td>\n",
              "      <td>Close</td>\n",
              "      <td>19400</td>\n",
              "      <td>1</td>\n",
              "      <td>NaN</td>\n",
              "      <td>18</td>\n",
              "      <td>384.0</td>\n",
              "    </tr>\n",
              "    <tr>\n",
              "      <th>996</th>\n",
              "      <td>Middle</td>\n",
              "      <td>Male</td>\n",
              "      <td>Rent</td>\n",
              "      <td>Single</td>\n",
              "      <td>Far</td>\n",
              "      <td>40500</td>\n",
              "      <td>1</td>\n",
              "      <td>NaN</td>\n",
              "      <td>18</td>\n",
              "      <td>1073.0</td>\n",
              "    </tr>\n",
              "    <tr>\n",
              "      <th>997</th>\n",
              "      <td>Old</td>\n",
              "      <td>Male</td>\n",
              "      <td>Own</td>\n",
              "      <td>Single</td>\n",
              "      <td>Close</td>\n",
              "      <td>44800</td>\n",
              "      <td>0</td>\n",
              "      <td>Medium</td>\n",
              "      <td>24</td>\n",
              "      <td>1417.0</td>\n",
              "    </tr>\n",
              "    <tr>\n",
              "      <th>998</th>\n",
              "      <td>Middle</td>\n",
              "      <td>Male</td>\n",
              "      <td>Own</td>\n",
              "      <td>Married</td>\n",
              "      <td>Close</td>\n",
              "      <td>79000</td>\n",
              "      <td>2</td>\n",
              "      <td>Medium</td>\n",
              "      <td>18</td>\n",
              "      <td>671.0</td>\n",
              "    </tr>\n",
              "    <tr>\n",
              "      <th>999</th>\n",
              "      <td>Young</td>\n",
              "      <td>Male</td>\n",
              "      <td>Rent</td>\n",
              "      <td>Married</td>\n",
              "      <td>Close</td>\n",
              "      <td>53600</td>\n",
              "      <td>1</td>\n",
              "      <td>Medium</td>\n",
              "      <td>24</td>\n",
              "      <td>973.0</td>\n",
              "    </tr>\n",
              "  </tbody>\n",
              "</table>\n",
              "<p>1000 rows × 10 columns</p>\n",
              "</div>\n",
              "      <button class=\"colab-df-convert\" onclick=\"convertToInteractive('df-d9ef51d5-9288-4cd0-8c94-bfe7634718cb')\"\n",
              "              title=\"Convert this dataframe to an interactive table.\"\n",
              "              style=\"display:none;\">\n",
              "        \n",
              "  <svg xmlns=\"http://www.w3.org/2000/svg\" height=\"24px\"viewBox=\"0 0 24 24\"\n",
              "       width=\"24px\">\n",
              "    <path d=\"M0 0h24v24H0V0z\" fill=\"none\"/>\n",
              "    <path d=\"M18.56 5.44l.94 2.06.94-2.06 2.06-.94-2.06-.94-.94-2.06-.94 2.06-2.06.94zm-11 1L8.5 8.5l.94-2.06 2.06-.94-2.06-.94L8.5 2.5l-.94 2.06-2.06.94zm10 10l.94 2.06.94-2.06 2.06-.94-2.06-.94-.94-2.06-.94 2.06-2.06.94z\"/><path d=\"M17.41 7.96l-1.37-1.37c-.4-.4-.92-.59-1.43-.59-.52 0-1.04.2-1.43.59L10.3 9.45l-7.72 7.72c-.78.78-.78 2.05 0 2.83L4 21.41c.39.39.9.59 1.41.59.51 0 1.02-.2 1.41-.59l7.78-7.78 2.81-2.81c.8-.78.8-2.07 0-2.86zM5.41 20L4 18.59l7.72-7.72 1.47 1.35L5.41 20z\"/>\n",
              "  </svg>\n",
              "      </button>\n",
              "      \n",
              "  <style>\n",
              "    .colab-df-container {\n",
              "      display:flex;\n",
              "      flex-wrap:wrap;\n",
              "      gap: 12px;\n",
              "    }\n",
              "\n",
              "    .colab-df-convert {\n",
              "      background-color: #E8F0FE;\n",
              "      border: none;\n",
              "      border-radius: 50%;\n",
              "      cursor: pointer;\n",
              "      display: none;\n",
              "      fill: #1967D2;\n",
              "      height: 32px;\n",
              "      padding: 0 0 0 0;\n",
              "      width: 32px;\n",
              "    }\n",
              "\n",
              "    .colab-df-convert:hover {\n",
              "      background-color: #E2EBFA;\n",
              "      box-shadow: 0px 1px 2px rgba(60, 64, 67, 0.3), 0px 1px 3px 1px rgba(60, 64, 67, 0.15);\n",
              "      fill: #174EA6;\n",
              "    }\n",
              "\n",
              "    [theme=dark] .colab-df-convert {\n",
              "      background-color: #3B4455;\n",
              "      fill: #D2E3FC;\n",
              "    }\n",
              "\n",
              "    [theme=dark] .colab-df-convert:hover {\n",
              "      background-color: #434B5C;\n",
              "      box-shadow: 0px 1px 3px 1px rgba(0, 0, 0, 0.15);\n",
              "      filter: drop-shadow(0px 1px 2px rgba(0, 0, 0, 0.3));\n",
              "      fill: #FFFFFF;\n",
              "    }\n",
              "  </style>\n",
              "\n",
              "      <script>\n",
              "        const buttonEl =\n",
              "          document.querySelector('#df-d9ef51d5-9288-4cd0-8c94-bfe7634718cb button.colab-df-convert');\n",
              "        buttonEl.style.display =\n",
              "          google.colab.kernel.accessAllowed ? 'block' : 'none';\n",
              "\n",
              "        async function convertToInteractive(key) {\n",
              "          const element = document.querySelector('#df-d9ef51d5-9288-4cd0-8c94-bfe7634718cb');\n",
              "          const dataTable =\n",
              "            await google.colab.kernel.invokeFunction('convertToInteractive',\n",
              "                                                     [key], {});\n",
              "          if (!dataTable) return;\n",
              "\n",
              "          const docLinkHtml = 'Like what you see? Visit the ' +\n",
              "            '<a target=\"_blank\" href=https://colab.research.google.com/notebooks/data_table.ipynb>data table notebook</a>'\n",
              "            + ' to learn more about interactive tables.';\n",
              "          element.innerHTML = '';\n",
              "          dataTable['output_type'] = 'display_data';\n",
              "          await google.colab.output.renderOutput(dataTable, element);\n",
              "          const docLink = document.createElement('div');\n",
              "          docLink.innerHTML = docLinkHtml;\n",
              "          element.appendChild(docLink);\n",
              "        }\n",
              "      </script>\n",
              "    </div>\n",
              "  </div>\n",
              "  "
            ]
          },
          "metadata": {},
          "execution_count": 94
        }
      ]
    },
    {
      "cell_type": "markdown",
      "source": [
        "# Visualisasi Composition"
      ],
      "metadata": {
        "id": "XTfPo5IjlqJx"
      }
    },
    {
      "cell_type": "code",
      "source": [
        "cormat = df.corr()\n",
        "fig, ax = plt.subplots(figsize = (12, 8))\n",
        "sns.heatmap(ax = ax, data = cormat, annot = True)\n",
        "plt.show()"
      ],
      "metadata": {
        "colab": {
          "base_uri": "https://localhost:8080/",
          "height": 687
        },
        "id": "oE51fmZHl4BR",
        "outputId": "00ca9882-071f-4725-9c4d-d76aff6f44be"
      },
      "execution_count": 96,
      "outputs": [
        {
          "output_type": "display_data",
          "data": {
            "text/plain": [
              "<Figure size 1200x800 with 2 Axes>"
            ],
            "image/png": "[encoded data removed]"
          },
          "metadata": {}
        }
      ]
    },
    {
      "cell_type": "code",
      "source": [
        "#Calculate count of each Level akreditasi\n",
        "level_count = df['Age'].value_counts()\n",
        "\n",
        "#Create pie chart for Level tumor\n",
        "fig, ax = plt.subplots(figsize=(10, 8))\n",
        "ax.pie(level_count, labels=level_count.index, autopct='%1.1f%%')\n",
        "ax.set_title('Persentase klasifikasi usia ')\n",
        "plt.show()"
      ],
      "metadata": {
        "colab": {
          "base_uri": "https://localhost:8080/",
          "height": 675
        },
        "id": "xF6v3Hgj6cxf",
        "outputId": "38f6ccfb-443e-4825-eb01-fe19a22ca076"
      },
      "execution_count": 98,
      "outputs": [
        {
          "output_type": "display_data",
          "data": {
            "text/plain": [
              "<Figure size 1000x800 with 1 Axes>"
            ],
            "image/png": "[encoded data removed]"
          },
          "metadata": {}
        }
      ]
    },
    {
      "cell_type": "markdown",
      "source": [
        "# Verify Data Qualify"
      ],
      "metadata": {
        "id": "16Zc-aeD68LA"
      }
    },
    {
      "cell_type": "code",
      "source": [
        "# Check for missing values\n",
        "missing_values = df.isnull().sum()\n",
        "print(\"Missing values:\\n\", missing_values)"
      ],
      "metadata": {
        "colab": {
          "base_uri": "https://localhost:8080/"
        },
        "id": "Ht9CeoCq7FNe",
        "outputId": "88f9b8e4-6f5f-43c4-e966-3b58ef63c470"
      },
      "execution_count": 100,
      "outputs": [
        {
          "output_type": "stream",
          "name": "stdout",
          "text": [
            "Missing values:\n",
            " Age              0\n",
            "Gender           0\n",
            "OwnHome          0\n",
            "Married          0\n",
            "Location         0\n",
            "Salary           0\n",
            "Children         0\n",
            "History        303\n",
            "Catalogs         0\n",
            "AmountSpent      6\n",
            "dtype: int64\n"
          ]
        }
      ]
    },
    {
      "cell_type": "code",
      "source": [
        "# Check for duplicates\n",
        "duplicate_rows = df.duplicated()\n",
        "print(\"Number of duplicate rows:\", duplicate_rows.sum())"
      ],
      "metadata": {
        "colab": {
          "base_uri": "https://localhost:8080/"
        },
        "id": "A4ur0-nW85HE",
        "outputId": "3e24cdaf-1e74-43ee-d7fb-f5326e300d6c"
      },
      "execution_count": 101,
      "outputs": [
        {
          "output_type": "stream",
          "name": "stdout",
          "text": [
            "Number of duplicate rows: 0\n"
          ]
        }
      ]
    },
    {
      "cell_type": "code",
      "source": [
        "# Check for outliers\n",
        "Q1 = df.quantile(0.25)\n",
        "Q3 = df.quantile(0.75)\n",
        "IQR = Q3 - Q1\n",
        "outliers = ((df < (Q1 - 1.5 * IQR)) | (df > (Q3 + 1.5 * IQR))).sum()\n",
        "print(\"Outliers:\\n\", outliers)"
      ],
      "metadata": {
        "colab": {
          "base_uri": "https://localhost:8080/"
        },
        "id": "qZoevWWi9Irm",
        "outputId": "afbab23c-2531-4a69-c6a7-37f85edd9dc8"
      },
      "execution_count": 102,
      "outputs": [
        {
          "output_type": "stream",
          "name": "stdout",
          "text": [
            "Outliers:\n",
            " Age             0\n",
            "AmountSpent    27\n",
            "Catalogs        0\n",
            "Children        0\n",
            "Gender          0\n",
            "History         0\n",
            "Location        0\n",
            "Married         0\n",
            "OwnHome         0\n",
            "Salary          1\n",
            "dtype: int64\n"
          ]
        },
        {
          "output_type": "stream",
          "name": "stderr",
          "text": [
            "<ipython-input-102-650d731e3b3f>:5: FutureWarning: Automatic reindexing on DataFrame vs Series comparisons is deprecated and will raise ValueError in a future version. Do `left, right = left.align(right, axis=1, copy=False)` before e.g. `left == right`\n",
            "  outliers = ((df < (Q1 - 1.5 * IQR)) | (df > (Q3 + 1.5 * IQR))).sum()\n"
          ]
        }
      ]
    },
    {
      "cell_type": "code",
      "source": [
        "# Check data types\n",
        "print(\"Data types:\\n\", df.dtypes)"
      ],
      "metadata": {
        "colab": {
          "base_uri": "https://localhost:8080/"
        },
        "id": "YLNr6DK9P9rn",
        "outputId": "d96da31d-b420-4e82-bf1f-97df3081bd31"
      },
      "execution_count": 103,
      "outputs": [
        {
          "output_type": "stream",
          "name": "stdout",
          "text": [
            "Data types:\n",
            " Age             object\n",
            "Gender          object\n",
            "OwnHome         object\n",
            "Married         object\n",
            "Location        object\n",
            "Salary           int64\n",
            "Children         int64\n",
            "History         object\n",
            "Catalogs         int64\n",
            "AmountSpent    float64\n",
            "dtype: object\n"
          ]
        }
      ]
    },
    {
      "cell_type": "markdown",
      "source": [
        "#Data Preparation"
      ],
      "metadata": {
        "id": "ZB1vtLtWQTJ6"
      }
    },
    {
      "cell_type": "markdown",
      "source": [
        "##select data"
      ],
      "metadata": {
        "id": "Xcj3C8xaQeXI"
      }
    },
    {
      "cell_type": "code",
      "source": [
        "import pandas as pd"
      ],
      "metadata": {
        "id": "L2aVr8dPQNXr"
      },
      "execution_count": null,
      "outputs": []
    },
    {
      "cell_type": "code",
      "source": [
        "df = pd.read_csv(\"retailMarketingDI.csv\")"
      ],
      "metadata": {
        "id": "B6GwOeenQsq6"
      },
      "execution_count": 105,
      "outputs": []
    },
    {
      "cell_type": "code",
      "source": [
        "# Membuat hanya menampikan 2 Kolom\n",
        "selected_data = df[[\"Age\", \"Gender\"]]\n",
        "\n",
        "# Menampilkan Perintah\n",
        "print(selected_data.head())"
      ],
      "metadata": {
        "id": "DERLCc_pQ0KN",
        "outputId": "18f52b70-525b-4abd-9e22-29bc8b59338e",
        "colab": {
          "base_uri": "https://localhost:8080/"
        }
      },
      "execution_count": 107,
      "outputs": [
        {
          "output_type": "stream",
          "name": "stdout",
          "text": [
            "      Age  Gender\n",
            "0     Old  Female\n",
            "1  Middle    Male\n",
            "2   Young  Female\n",
            "3  Middle    Male\n",
            "4  Middle  Female\n"
          ]
        }
      ]
    },
    {
      "cell_type": "code",
      "source": [
        "# Membuat hanya menampikan 2 Kolom\n",
        "selected_data = df[[\"Age\", \"Gender\"]]\n",
        "\n",
        "# Menampilkan Perintah\n",
        "print(selected_data.head())"
      ],
      "metadata": {
        "id": "2xh1OyDjRGeg",
        "outputId": "d1c45295-b210-4094-9931-50f6ec87a67d",
        "colab": {
          "base_uri": "https://localhost:8080/"
        }
      },
      "execution_count": 108,
      "outputs": [
        {
          "output_type": "stream",
          "name": "stdout",
          "text": [
            "      Age  Gender\n",
            "0     Old  Female\n",
            "1  Middle    Male\n",
            "2   Young  Female\n",
            "3  Middle    Male\n",
            "4  Middle  Female\n"
          ]
        }
      ]
    },
    {
      "cell_type": "code",
      "source": [
        "# Membuat hanya menampikan 3 Kolom\n",
        "selected_data = df[[\"Age\", \"Gender\", \"Catalogs\"]]\n",
        "\n",
        "# Menampilkan Perintah\n",
        "print(selected_data.head())"
      ],
      "metadata": {
        "id": "By2cv3T7RM53",
        "outputId": "14bb88b6-9b48-478b-ca9d-e8ea52f2cda4",
        "colab": {
          "base_uri": "https://localhost:8080/"
        }
      },
      "execution_count": 109,
      "outputs": [
        {
          "output_type": "stream",
          "name": "stdout",
          "text": [
            "      Age  Gender  Catalogs\n",
            "0     Old  Female         6\n",
            "1  Middle    Male         6\n",
            "2   Young  Female        18\n",
            "3  Middle    Male        18\n",
            "4  Middle  Female        12\n"
          ]
        }
      ]
    },
    {
      "cell_type": "markdown",
      "source": [
        "##clean data"
      ],
      "metadata": {
        "id": "MDS2UPdSReHG"
      }
    },
    {
      "cell_type": "code",
      "source": [
        "df.isna().sum()"
      ],
      "metadata": {
        "id": "wstRQYf3RZ5F",
        "outputId": "0325520a-33af-4a3d-d857-748671a4f184",
        "colab": {
          "base_uri": "https://localhost:8080/"
        }
      },
      "execution_count": 110,
      "outputs": [
        {
          "output_type": "execute_result",
          "data": {
            "text/plain": [
              "Age              0\n",
              "Gender           0\n",
              "OwnHome          0\n",
              "Married          0\n",
              "Location         0\n",
              "Salary           0\n",
              "Children         0\n",
              "History        303\n",
              "Catalogs         0\n",
              "AmountSpent      6\n",
              "dtype: int64"
            ]
          },
          "metadata": {},
          "execution_count": 110
        }
      ]
    },
    {
      "cell_type": "code",
      "source": [
        "df.isna().sum() / len(df) * 100"
      ],
      "metadata": {
        "id": "SGYg5tpKRi7Q",
        "outputId": "4bf6f30d-e547-4444-c5c5-b10860578b51",
        "colab": {
          "base_uri": "https://localhost:8080/"
        }
      },
      "execution_count": 111,
      "outputs": [
        {
          "output_type": "execute_result",
          "data": {
            "text/plain": [
              "Age             0.0\n",
              "Gender          0.0\n",
              "OwnHome         0.0\n",
              "Married         0.0\n",
              "Location        0.0\n",
              "Salary          0.0\n",
              "Children        0.0\n",
              "History        30.3\n",
              "Catalogs        0.0\n",
              "AmountSpent     0.6\n",
              "dtype: float64"
            ]
          },
          "metadata": {},
          "execution_count": 111
        }
      ]
    },
    {
      "cell_type": "code",
      "source": [
        "df[\"History\"] = df[\"History\"].fillna(df[\"History\"].mode()[0])"
      ],
      "metadata": {
        "id": "qlgiy_F-Rnfv"
      },
      "execution_count": 112,
      "outputs": []
    },
    {
      "cell_type": "code",
      "source": [
        "df.isna().sum()"
      ],
      "metadata": {
        "id": "cHI5CZEDR03n",
        "outputId": "98f86dd8-b63c-4f34-a2ea-d61970a70fbb",
        "colab": {
          "base_uri": "https://localhost:8080/"
        }
      },
      "execution_count": 113,
      "outputs": [
        {
          "output_type": "execute_result",
          "data": {
            "text/plain": [
              "Age            0\n",
              "Gender         0\n",
              "OwnHome        0\n",
              "Married        0\n",
              "Location       0\n",
              "Salary         0\n",
              "Children       0\n",
              "History        0\n",
              "Catalogs       0\n",
              "AmountSpent    6\n",
              "dtype: int64"
            ]
          },
          "metadata": {},
          "execution_count": 113
        }
      ]
    },
    {
      "cell_type": "code",
      "source": [
        "df.isna().sum() / len(df) * 100"
      ],
      "metadata": {
        "id": "Xuua_9zlR4sF",
        "outputId": "e897638d-5d52-418f-aab2-d8fa4ab33908",
        "colab": {
          "base_uri": "https://localhost:8080/"
        }
      },
      "execution_count": 114,
      "outputs": [
        {
          "output_type": "execute_result",
          "data": {
            "text/plain": [
              "Age            0.0\n",
              "Gender         0.0\n",
              "OwnHome        0.0\n",
              "Married        0.0\n",
              "Location       0.0\n",
              "Salary         0.0\n",
              "Children       0.0\n",
              "History        0.0\n",
              "Catalogs       0.0\n",
              "AmountSpent    0.6\n",
              "dtype: float64"
            ]
          },
          "metadata": {},
          "execution_count": 114
        }
      ]
    },
    {
      "cell_type": "markdown",
      "source": [
        "##construct data"
      ],
      "metadata": {
        "id": "aFIBhV4VR_hQ"
      }
    },
    {
      "cell_type": "code",
      "source": [
        "import pandas as pd\n",
        "df = pd.read_csv(\"retailMarketingDI.csv\")"
      ],
      "metadata": {
        "id": "sR3dsksVR8hf"
      },
      "execution_count": 115,
      "outputs": []
    },
    {
      "cell_type": "code",
      "source": [
        "# Create a new feature that calculates the difference between the maximum and minimum values of each banknote\n",
        "df[\"jumlah\"] = df[\"Catalogs\"] + df[\"AmountSpent\"]\n",
        "\n",
        "# Display the first few rows of the modified dataset\n",
        "print(df.head())"
      ],
      "metadata": {
        "id": "kY3wIUCrSJar",
        "outputId": "17195920-87b8-4297-af2f-1a2e1b6bf277",
        "colab": {
          "base_uri": "https://localhost:8080/"
        }
      },
      "execution_count": 116,
      "outputs": [
        {
          "output_type": "stream",
          "name": "stdout",
          "text": [
            "      Age  Gender OwnHome  Married Location  Salary  Children History  \\\n",
            "0     Old  Female     Own   Single      Far   47500         0    High   \n",
            "1  Middle    Male    Rent   Single    Close   63600         0    High   \n",
            "2   Young  Female    Rent   Single    Close   13500         0     Low   \n",
            "3  Middle    Male     Own  Married    Close   85600         1    High   \n",
            "4  Middle  Female     Own   Single    Close   68400         0    High   \n",
            "\n",
            "   Catalogs  AmountSpent  jumlah  \n",
            "0         6        755.0   761.0  \n",
            "1         6       1318.0  1324.0  \n",
            "2        18        296.0   314.0  \n",
            "3        18       2436.0  2454.0  \n",
            "4        12       1304.0  1316.0  \n"
          ]
        }
      ]
    },
    {
      "cell_type": "markdown",
      "source": [
        "##integrate data"
      ],
      "metadata": {
        "id": "9oL29oQAS0XB"
      }
    },
    {
      "cell_type": "code",
      "source": [
        "df = pd.read_csv('retailMarketingDI.csv')\n",
        "\n",
        "# Melakukan integrasi data dengan menambahkan kolom baru\n",
        "df['data anak anak'] = df['Children'] + df['Catalogs']\n",
        "\n",
        "# Melakukan perubahan pada nilai data tertentu\n",
        "df.loc[df['AmountSpent'] == 'nilai_awal', 'AmountSpent'] = 'nilai_baru'\n",
        "\n",
        "# Melakukan penghapusan kolom yang tidak diperlukan\n",
        "df = df.drop(['Married', 'Location'], axis=1)\n",
        "\n",
        "# Menyimpan dataset yang telah diubah\n",
        "df.to_csv('integrity data.csv', index=False)\n",
        "\n",
        "print(\"berhasil membuat dataset baru dan menambahkan 1 kolom baru yaitu data anak anak\")"
      ],
      "metadata": {
        "id": "QAoKZOfhS9Nt",
        "outputId": "954207f7-80a2-4d88-ff67-2a42f24793c4",
        "colab": {
          "base_uri": "https://localhost:8080/"
        }
      },
      "execution_count": 117,
      "outputs": [
        {
          "output_type": "stream",
          "name": "stdout",
          "text": [
            "berhasil membuat dataset baru dan menambahkan 1 kolom baru yaitu data anak anak\n"
          ]
        }
      ]
    },
    {
      "cell_type": "code",
      "source": [
        "df"
      ],
      "metadata": {
        "id": "ItST1CX8SZX8",
        "outputId": "82853e78-444f-4b91-d86d-ed556d2df9f3",
        "colab": {
          "base_uri": "https://localhost:8080/",
          "height": 424
        }
      },
      "execution_count": 118,
      "outputs": [
        {
          "output_type": "execute_result",
          "data": {
            "text/plain": [
              "        Age  Gender OwnHome  Salary  Children History  Catalogs AmountSpent  \\\n",
              "0       Old  Female     Own   47500         0    High         6       755.0   \n",
              "1    Middle    Male    Rent   63600         0    High         6      1318.0   \n",
              "2     Young  Female    Rent   13500         0     Low        18       296.0   \n",
              "3    Middle    Male     Own   85600         1    High        18      2436.0   \n",
              "4    Middle  Female     Own   68400         0    High        12      1304.0   \n",
              "..      ...     ...     ...     ...       ...     ...       ...         ...   \n",
              "995   Young  Female    Rent   19400         1     NaN        18       384.0   \n",
              "996  Middle    Male    Rent   40500         1     NaN        18      1073.0   \n",
              "997     Old    Male     Own   44800         0  Medium        24      1417.0   \n",
              "998  Middle    Male     Own   79000         2  Medium        18       671.0   \n",
              "999   Young    Male    Rent   53600         1  Medium        24       973.0   \n",
              "\n",
              "     data anak anak  \n",
              "0                 6  \n",
              "1                 6  \n",
              "2                18  \n",
              "3                19  \n",
              "4                12  \n",
              "..              ...  \n",
              "995              19  \n",
              "996              19  \n",
              "997              24  \n",
              "998              20  \n",
              "999              25  \n",
              "\n",
              "[1000 rows x 9 columns]"
            ],
            "text/html": [
              "\n",
              "  <div id=\"df-12290dd0-26f4-4ca0-9e09-e38ce94c12dd\">\n",
              "    <div class=\"colab-df-container\">\n",
              "      <div>\n",
              "<style scoped>\n",
              "    .dataframe tbody tr th:only-of-type {\n",
              "        vertical-align: middle;\n",
              "    }\n",
              "\n",
              "    .dataframe tbody tr th {\n",
              "        vertical-align: top;\n",
              "    }\n",
              "\n",
              "    .dataframe thead th {\n",
              "        text-align: right;\n",
              "    }\n",
              "</style>\n",
              "<table border=\"1\" class=\"dataframe\">\n",
              "  <thead>\n",
              "    <tr style=\"text-align: right;\">\n",
              "      <th></th>\n",
              "      <th>Age</th>\n",
              "      <th>Gender</th>\n",
              "      <th>OwnHome</th>\n",
              "      <th>Salary</th>\n",
              "      <th>Children</th>\n",
              "      <th>History</th>\n",
              "      <th>Catalogs</th>\n",
              "      <th>AmountSpent</th>\n",
              "      <th>data anak anak</th>\n",
              "    </tr>\n",
              "  </thead>\n",
              "  <tbody>\n",
              "    <tr>\n",
              "      <th>0</th>\n",
              "      <td>Old</td>\n",
              "      <td>Female</td>\n",
              "      <td>Own</td>\n",
              "      <td>47500</td>\n",
              "      <td>0</td>\n",
              "      <td>High</td>\n",
              "      <td>6</td>\n",
              "      <td>755.0</td>\n",
              "      <td>6</td>\n",
              "    </tr>\n",
              "    <tr>\n",
              "      <th>1</th>\n",
              "      <td>Middle</td>\n",
              "      <td>Male</td>\n",
              "      <td>Rent</td>\n",
              "      <td>63600</td>\n",
              "      <td>0</td>\n",
              "      <td>High</td>\n",
              "      <td>6</td>\n",
              "      <td>1318.0</td>\n",
              "      <td>6</td>\n",
              "    </tr>\n",
              "    <tr>\n",
              "      <th>2</th>\n",
              "      <td>Young</td>\n",
              "      <td>Female</td>\n",
              "      <td>Rent</td>\n",
              "      <td>13500</td>\n",
              "      <td>0</td>\n",
              "      <td>Low</td>\n",
              "      <td>18</td>\n",
              "      <td>296.0</td>\n",
              "      <td>18</td>\n",
              "    </tr>\n",
              "    <tr>\n",
              "      <th>3</th>\n",
              "      <td>Middle</td>\n",
              "      <td>Male</td>\n",
              "      <td>Own</td>\n",
              "      <td>85600</td>\n",
              "      <td>1</td>\n",
              "      <td>High</td>\n",
              "      <td>18</td>\n",
              "      <td>2436.0</td>\n",
              "      <td>19</td>\n",
              "    </tr>\n",
              "    <tr>\n",
              "      <th>4</th>\n",
              "      <td>Middle</td>\n",
              "      <td>Female</td>\n",
              "      <td>Own</td>\n",
              "      <td>68400</td>\n",
              "      <td>0</td>\n",
              "      <td>High</td>\n",
              "      <td>12</td>\n",
              "      <td>1304.0</td>\n",
              "      <td>12</td>\n",
              "    </tr>\n",
              "    <tr>\n",
              "      <th>...</th>\n",
              "      <td>...</td>\n",
              "      <td>...</td>\n",
              "      <td>...</td>\n",
              "      <td>...</td>\n",
              "      <td>...</td>\n",
              "      <td>...</td>\n",
              "      <td>...</td>\n",
              "      <td>...</td>\n",
              "      <td>...</td>\n",
              "    </tr>\n",
              "    <tr>\n",
              "      <th>995</th>\n",
              "      <td>Young</td>\n",
              "      <td>Female</td>\n",
              "      <td>Rent</td>\n",
              "      <td>19400</td>\n",
              "      <td>1</td>\n",
              "      <td>NaN</td>\n",
              "      <td>18</td>\n",
              "      <td>384.0</td>\n",
              "      <td>19</td>\n",
              "    </tr>\n",
              "    <tr>\n",
              "      <th>996</th>\n",
              "      <td>Middle</td>\n",
              "      <td>Male</td>\n",
              "      <td>Rent</td>\n",
              "      <td>40500</td>\n",
              "      <td>1</td>\n",
              "      <td>NaN</td>\n",
              "      <td>18</td>\n",
              "      <td>1073.0</td>\n",
              "      <td>19</td>\n",
              "    </tr>\n",
              "    <tr>\n",
              "      <th>997</th>\n",
              "      <td>Old</td>\n",
              "      <td>Male</td>\n",
              "      <td>Own</td>\n",
              "      <td>44800</td>\n",
              "      <td>0</td>\n",
              "      <td>Medium</td>\n",
              "      <td>24</td>\n",
              "      <td>1417.0</td>\n",
              "      <td>24</td>\n",
              "    </tr>\n",
              "    <tr>\n",
              "      <th>998</th>\n",
              "      <td>Middle</td>\n",
              "      <td>Male</td>\n",
              "      <td>Own</td>\n",
              "      <td>79000</td>\n",
              "      <td>2</td>\n",
              "      <td>Medium</td>\n",
              "      <td>18</td>\n",
              "      <td>671.0</td>\n",
              "      <td>20</td>\n",
              "    </tr>\n",
              "    <tr>\n",
              "      <th>999</th>\n",
              "      <td>Young</td>\n",
              "      <td>Male</td>\n",
              "      <td>Rent</td>\n",
              "      <td>53600</td>\n",
              "      <td>1</td>\n",
              "      <td>Medium</td>\n",
              "      <td>24</td>\n",
              "      <td>973.0</td>\n",
              "      <td>25</td>\n",
              "    </tr>\n",
              "  </tbody>\n",
              "</table>\n",
              "<p>1000 rows × 9 columns</p>\n",
              "</div>\n",
              "      <button class=\"colab-df-convert\" onclick=\"convertToInteractive('df-12290dd0-26f4-4ca0-9e09-e38ce94c12dd')\"\n",
              "              title=\"Convert this dataframe to an interactive table.\"\n",
              "              style=\"display:none;\">\n",
              "        \n",
              "  <svg xmlns=\"http://www.w3.org/2000/svg\" height=\"24px\"viewBox=\"0 0 24 24\"\n",
              "       width=\"24px\">\n",
              "    <path d=\"M0 0h24v24H0V0z\" fill=\"none\"/>\n",
              "    <path d=\"M18.56 5.44l.94 2.06.94-2.06 2.06-.94-2.06-.94-.94-2.06-.94 2.06-2.06.94zm-11 1L8.5 8.5l.94-2.06 2.06-.94-2.06-.94L8.5 2.5l-.94 2.06-2.06.94zm10 10l.94 2.06.94-2.06 2.06-.94-2.06-.94-.94-2.06-.94 2.06-2.06.94z\"/><path d=\"M17.41 7.96l-1.37-1.37c-.4-.4-.92-.59-1.43-.59-.52 0-1.04.2-1.43.59L10.3 9.45l-7.72 7.72c-.78.78-.78 2.05 0 2.83L4 21.41c.39.39.9.59 1.41.59.51 0 1.02-.2 1.41-.59l7.78-7.78 2.81-2.81c.8-.78.8-2.07 0-2.86zM5.41 20L4 18.59l7.72-7.72 1.47 1.35L5.41 20z\"/>\n",
              "  </svg>\n",
              "      </button>\n",
              "      \n",
              "  <style>\n",
              "    .colab-df-container {\n",
              "      display:flex;\n",
              "      flex-wrap:wrap;\n",
              "      gap: 12px;\n",
              "    }\n",
              "\n",
              "    .colab-df-convert {\n",
              "      background-color: #E8F0FE;\n",
              "      border: none;\n",
              "      border-radius: 50%;\n",
              "      cursor: pointer;\n",
              "      display: none;\n",
              "      fill: #1967D2;\n",
              "      height: 32px;\n",
              "      padding: 0 0 0 0;\n",
              "      width: 32px;\n",
              "    }\n",
              "\n",
              "    .colab-df-convert:hover {\n",
              "      background-color: #E2EBFA;\n",
              "      box-shadow: 0px 1px 2px rgba(60, 64, 67, 0.3), 0px 1px 3px 1px rgba(60, 64, 67, 0.15);\n",
              "      fill: #174EA6;\n",
              "    }\n",
              "\n",
              "    [theme=dark] .colab-df-convert {\n",
              "      background-color: #3B4455;\n",
              "      fill: #D2E3FC;\n",
              "    }\n",
              "\n",
              "    [theme=dark] .colab-df-convert:hover {\n",
              "      background-color: #434B5C;\n",
              "      box-shadow: 0px 1px 3px 1px rgba(0, 0, 0, 0.15);\n",
              "      filter: drop-shadow(0px 1px 2px rgba(0, 0, 0, 0.3));\n",
              "      fill: #FFFFFF;\n",
              "    }\n",
              "  </style>\n",
              "\n",
              "      <script>\n",
              "        const buttonEl =\n",
              "          document.querySelector('#df-12290dd0-26f4-4ca0-9e09-e38ce94c12dd button.colab-df-convert');\n",
              "        buttonEl.style.display =\n",
              "          google.colab.kernel.accessAllowed ? 'block' : 'none';\n",
              "\n",
              "        async function convertToInteractive(key) {\n",
              "          const element = document.querySelector('#df-12290dd0-26f4-4ca0-9e09-e38ce94c12dd');\n",
              "          const dataTable =\n",
              "            await google.colab.kernel.invokeFunction('convertToInteractive',\n",
              "                                                     [key], {});\n",
              "          if (!dataTable) return;\n",
              "\n",
              "          const docLinkHtml = 'Like what you see? Visit the ' +\n",
              "            '<a target=\"_blank\" href=https://colab.research.google.com/notebooks/data_table.ipynb>data table notebook</a>'\n",
              "            + ' to learn more about interactive tables.';\n",
              "          element.innerHTML = '';\n",
              "          dataTable['output_type'] = 'display_data';\n",
              "          await google.colab.output.renderOutput(dataTable, element);\n",
              "          const docLink = document.createElement('div');\n",
              "          docLink.innerHTML = docLinkHtml;\n",
              "          element.appendChild(docLink);\n",
              "        }\n",
              "      </script>\n",
              "    </div>\n",
              "  </div>\n",
              "  "
            ]
          },
          "metadata": {},
          "execution_count": 118
        }
      ]
    },
    {
      "cell_type": "code",
      "source": [
        "df"
      ],
      "metadata": {
        "id": "2twRfweZQ19m",
        "outputId": "8f888343-b5f4-47d3-81d9-718f5673c1f3",
        "colab": {
          "base_uri": "https://localhost:8080/",
          "height": 424
        }
      },
      "execution_count": 106,
      "outputs": [
        {
          "output_type": "execute_result",
          "data": {
            "text/plain": [
              "        Age  Gender OwnHome  Married Location  Salary  Children History  \\\n",
              "0       Old  Female     Own   Single      Far   47500         0    High   \n",
              "1    Middle    Male    Rent   Single    Close   63600         0    High   \n",
              "2     Young  Female    Rent   Single    Close   13500         0     Low   \n",
              "3    Middle    Male     Own  Married    Close   85600         1    High   \n",
              "4    Middle  Female     Own   Single    Close   68400         0    High   \n",
              "..      ...     ...     ...      ...      ...     ...       ...     ...   \n",
              "995   Young  Female    Rent   Single    Close   19400         1     NaN   \n",
              "996  Middle    Male    Rent   Single      Far   40500         1     NaN   \n",
              "997     Old    Male     Own   Single    Close   44800         0  Medium   \n",
              "998  Middle    Male     Own  Married    Close   79000         2  Medium   \n",
              "999   Young    Male    Rent  Married    Close   53600         1  Medium   \n",
              "\n",
              "     Catalogs  AmountSpent  \n",
              "0           6        755.0  \n",
              "1           6       1318.0  \n",
              "2          18        296.0  \n",
              "3          18       2436.0  \n",
              "4          12       1304.0  \n",
              "..        ...          ...  \n",
              "995        18        384.0  \n",
              "996        18       1073.0  \n",
              "997        24       1417.0  \n",
              "998        18        671.0  \n",
              "999        24        973.0  \n",
              "\n",
              "[1000 rows x 10 columns]"
            ],
            "text/html": [
              "\n",
              "  <div id=\"df-e2cb8c00-e0f6-4ecc-9427-1a0697af3bd9\">\n",
              "    <div class=\"colab-df-container\">\n",
              "      <div>\n",
              "<style scoped>\n",
              "    .dataframe tbody tr th:only-of-type {\n",
              "        vertical-align: middle;\n",
              "    }\n",
              "\n",
              "    .dataframe tbody tr th {\n",
              "        vertical-align: top;\n",
              "    }\n",
              "\n",
              "    .dataframe thead th {\n",
              "        text-align: right;\n",
              "    }\n",
              "</style>\n",
              "<table border=\"1\" class=\"dataframe\">\n",
              "  <thead>\n",
              "    <tr style=\"text-align: right;\">\n",
              "      <th></th>\n",
              "      <th>Age</th>\n",
              "      <th>Gender</th>\n",
              "      <th>OwnHome</th>\n",
              "      <th>Married</th>\n",
              "      <th>Location</th>\n",
              "      <th>Salary</th>\n",
              "      <th>Children</th>\n",
              "      <th>History</th>\n",
              "      <th>Catalogs</th>\n",
              "      <th>AmountSpent</th>\n",
              "    </tr>\n",
              "  </thead>\n",
              "  <tbody>\n",
              "    <tr>\n",
              "      <th>0</th>\n",
              "      <td>Old</td>\n",
              "      <td>Female</td>\n",
              "      <td>Own</td>\n",
              "      <td>Single</td>\n",
              "      <td>Far</td>\n",
              "      <td>47500</td>\n",
              "      <td>0</td>\n",
              "      <td>High</td>\n",
              "      <td>6</td>\n",
              "      <td>755.0</td>\n",
              "    </tr>\n",
              "    <tr>\n",
              "      <th>1</th>\n",
              "      <td>Middle</td>\n",
              "      <td>Male</td>\n",
              "      <td>Rent</td>\n",
              "      <td>Single</td>\n",
              "      <td>Close</td>\n",
              "      <td>63600</td>\n",
              "      <td>0</td>\n",
              "      <td>High</td>\n",
              "      <td>6</td>\n",
              "      <td>1318.0</td>\n",
              "    </tr>\n",
              "    <tr>\n",
              "      <th>2</th>\n",
              "      <td>Young</td>\n",
              "      <td>Female</td>\n",
              "      <td>Rent</td>\n",
              "      <td>Single</td>\n",
              "      <td>Close</td>\n",
              "      <td>13500</td>\n",
              "      <td>0</td>\n",
              "      <td>Low</td>\n",
              "      <td>18</td>\n",
              "      <td>296.0</td>\n",
              "    </tr>\n",
              "    <tr>\n",
              "      <th>3</th>\n",
              "      <td>Middle</td>\n",
              "      <td>Male</td>\n",
              "      <td>Own</td>\n",
              "      <td>Married</td>\n",
              "      <td>Close</td>\n",
              "      <td>85600</td>\n",
              "      <td>1</td>\n",
              "      <td>High</td>\n",
              "      <td>18</td>\n",
              "      <td>2436.0</td>\n",
              "    </tr>\n",
              "    <tr>\n",
              "      <th>4</th>\n",
              "      <td>Middle</td>\n",
              "      <td>Female</td>\n",
              "      <td>Own</td>\n",
              "      <td>Single</td>\n",
              "      <td>Close</td>\n",
              "      <td>68400</td>\n",
              "      <td>0</td>\n",
              "      <td>High</td>\n",
              "      <td>12</td>\n",
              "      <td>1304.0</td>\n",
              "    </tr>\n",
              "    <tr>\n",
              "      <th>...</th>\n",
              "      <td>...</td>\n",
              "      <td>...</td>\n",
              "      <td>...</td>\n",
              "      <td>...</td>\n",
              "      <td>...</td>\n",
              "      <td>...</td>\n",
              "      <td>...</td>\n",
              "      <td>...</td>\n",
              "      <td>...</td>\n",
              "      <td>...</td>\n",
              "    </tr>\n",
              "    <tr>\n",
              "      <th>995</th>\n",
              "      <td>Young</td>\n",
              "      <td>Female</td>\n",
              "      <td>Rent</td>\n",
              "      <td>Single</td>\n",
              "      <td>Close</td>\n",
              "      <td>19400</td>\n",
              "      <td>1</td>\n",
              "      <td>NaN</td>\n",
              "      <td>18</td>\n",
              "      <td>384.0</td>\n",
              "    </tr>\n",
              "    <tr>\n",
              "      <th>996</th>\n",
              "      <td>Middle</td>\n",
              "      <td>Male</td>\n",
              "      <td>Rent</td>\n",
              "      <td>Single</td>\n",
              "      <td>Far</td>\n",
              "      <td>40500</td>\n",
              "      <td>1</td>\n",
              "      <td>NaN</td>\n",
              "      <td>18</td>\n",
              "      <td>1073.0</td>\n",
              "    </tr>\n",
              "    <tr>\n",
              "      <th>997</th>\n",
              "      <td>Old</td>\n",
              "      <td>Male</td>\n",
              "      <td>Own</td>\n",
              "      <td>Single</td>\n",
              "      <td>Close</td>\n",
              "      <td>44800</td>\n",
              "      <td>0</td>\n",
              "      <td>Medium</td>\n",
              "      <td>24</td>\n",
              "      <td>1417.0</td>\n",
              "    </tr>\n",
              "    <tr>\n",
              "      <th>998</th>\n",
              "      <td>Middle</td>\n",
              "      <td>Male</td>\n",
              "      <td>Own</td>\n",
              "      <td>Married</td>\n",
              "      <td>Close</td>\n",
              "      <td>79000</td>\n",
              "      <td>2</td>\n",
              "      <td>Medium</td>\n",
              "      <td>18</td>\n",
              "      <td>671.0</td>\n",
              "    </tr>\n",
              "    <tr>\n",
              "      <th>999</th>\n",
              "      <td>Young</td>\n",
              "      <td>Male</td>\n",
              "      <td>Rent</td>\n",
              "      <td>Married</td>\n",
              "      <td>Close</td>\n",
              "      <td>53600</td>\n",
              "      <td>1</td>\n",
              "      <td>Medium</td>\n",
              "      <td>24</td>\n",
              "      <td>973.0</td>\n",
              "    </tr>\n",
              "  </tbody>\n",
              "</table>\n",
              "<p>1000 rows × 10 columns</p>\n",
              "</div>\n",
              "      <button class=\"colab-df-convert\" onclick=\"convertToInteractive('df-e2cb8c00-e0f6-4ecc-9427-1a0697af3bd9')\"\n",
              "              title=\"Convert this dataframe to an interactive table.\"\n",
              "              style=\"display:none;\">\n",
              "        \n",
              "  <svg xmlns=\"http://www.w3.org/2000/svg\" height=\"24px\"viewBox=\"0 0 24 24\"\n",
              "       width=\"24px\">\n",
              "    <path d=\"M0 0h24v24H0V0z\" fill=\"none\"/>\n",
              "    <path d=\"M18.56 5.44l.94 2.06.94-2.06 2.06-.94-2.06-.94-.94-2.06-.94 2.06-2.06.94zm-11 1L8.5 8.5l.94-2.06 2.06-.94-2.06-.94L8.5 2.5l-.94 2.06-2.06.94zm10 10l.94 2.06.94-2.06 2.06-.94-2.06-.94-.94-2.06-.94 2.06-2.06.94z\"/><path d=\"M17.41 7.96l-1.37-1.37c-.4-.4-.92-.59-1.43-.59-.52 0-1.04.2-1.43.59L10.3 9.45l-7.72 7.72c-.78.78-.78 2.05 0 2.83L4 21.41c.39.39.9.59 1.41.59.51 0 1.02-.2 1.41-.59l7.78-7.78 2.81-2.81c.8-.78.8-2.07 0-2.86zM5.41 20L4 18.59l7.72-7.72 1.47 1.35L5.41 20z\"/>\n",
              "  </svg>\n",
              "      </button>\n",
              "      \n",
              "  <style>\n",
              "    .colab-df-container {\n",
              "      display:flex;\n",
              "      flex-wrap:wrap;\n",
              "      gap: 12px;\n",
              "    }\n",
              "\n",
              "    .colab-df-convert {\n",
              "      background-color: #E8F0FE;\n",
              "      border: none;\n",
              "      border-radius: 50%;\n",
              "      cursor: pointer;\n",
              "      display: none;\n",
              "      fill: #1967D2;\n",
              "      height: 32px;\n",
              "      padding: 0 0 0 0;\n",
              "      width: 32px;\n",
              "    }\n",
              "\n",
              "    .colab-df-convert:hover {\n",
              "      background-color: #E2EBFA;\n",
              "      box-shadow: 0px 1px 2px rgba(60, 64, 67, 0.3), 0px 1px 3px 1px rgba(60, 64, 67, 0.15);\n",
              "      fill: #174EA6;\n",
              "    }\n",
              "\n",
              "    [theme=dark] .colab-df-convert {\n",
              "      background-color: #3B4455;\n",
              "      fill: #D2E3FC;\n",
              "    }\n",
              "\n",
              "    [theme=dark] .colab-df-convert:hover {\n",
              "      background-color: #434B5C;\n",
              "      box-shadow: 0px 1px 3px 1px rgba(0, 0, 0, 0.15);\n",
              "      filter: drop-shadow(0px 1px 2px rgba(0, 0, 0, 0.3));\n",
              "      fill: #FFFFFF;\n",
              "    }\n",
              "  </style>\n",
              "\n",
              "      <script>\n",
              "        const buttonEl =\n",
              "          document.querySelector('#df-e2cb8c00-e0f6-4ecc-9427-1a0697af3bd9 button.colab-df-convert');\n",
              "        buttonEl.style.display =\n",
              "          google.colab.kernel.accessAllowed ? 'block' : 'none';\n",
              "\n",
              "        async function convertToInteractive(key) {\n",
              "          const element = document.querySelector('#df-e2cb8c00-e0f6-4ecc-9427-1a0697af3bd9');\n",
              "          const dataTable =\n",
              "            await google.colab.kernel.invokeFunction('convertToInteractive',\n",
              "                                                     [key], {});\n",
              "          if (!dataTable) return;\n",
              "\n",
              "          const docLinkHtml = 'Like what you see? Visit the ' +\n",
              "            '<a target=\"_blank\" href=https://colab.research.google.com/notebooks/data_table.ipynb>data table notebook</a>'\n",
              "            + ' to learn more about interactive tables.';\n",
              "          element.innerHTML = '';\n",
              "          dataTable['output_type'] = 'display_data';\n",
              "          await google.colab.output.renderOutput(dataTable, element);\n",
              "          const docLink = document.createElement('div');\n",
              "          docLink.innerHTML = docLinkHtml;\n",
              "          element.appendChild(docLink);\n",
              "        }\n",
              "      </script>\n",
              "    </div>\n",
              "  </div>\n",
              "  "
            ]
          },
          "metadata": {},
          "execution_count": 106
        }
      ]
    },
    {
      "cell_type": "markdown",
      "source": [
        "##format data"
      ],
      "metadata": {
        "id": "LYH5D1MaThFL"
      }
    },
    {
      "cell_type": "code",
      "source": [
        "# Membaca file csv\n",
        "df = pd.read_csv('retailMarketingDI.csv')\n",
        "\n",
        "\n",
        "# Mengganti nilai null dengan nilai rata-rata\n",
        "mean_value = df['Children'].mean()\n",
        "df['Children'] = df['Children'].fillna(mean_value)\n",
        "\n",
        "# Mengubah tipe data review count dari string ke integer\n",
        "df['Catalogs'] = df['Catalogs'].astype(int)\n",
        "\n",
        "# Menghapus baris yang duplikat\n",
        "df = df.drop_duplicates()\n",
        "\n",
        "# Mengurutkan data berdasarkan kolom5\n",
        "df = df.sort_values('Age')\n",
        "\n",
        "# Menyimpan hasil pengolahan data ke file csv\n",
        "df.to_csv('data_cleaned.csv', index=False)"
      ],
      "metadata": {
        "id": "MCLXxfu8Q9r4"
      },
      "execution_count": 122,
      "outputs": []
    }
  ]
}